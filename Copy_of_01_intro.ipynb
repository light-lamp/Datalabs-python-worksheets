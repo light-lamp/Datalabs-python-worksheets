{
  "nbformat": 4,
  "nbformat_minor": 0,
  "metadata": {
    "kernelspec": {
      "display_name": "Python 3",
      "language": "python",
      "name": "python3"
    },
    "language_info": {
      "codemirror_mode": {
        "name": "ipython",
        "version": 3
      },
      "file_extension": ".py",
      "mimetype": "text/x-python",
      "name": "python",
      "nbconvert_exporter": "python",
      "pygments_lexer": "ipython3",
      "version": "3.7.4"
    },
    "colab": {
      "name": "Copy of 01_intro.ipynb",
      "provenance": [],
      "include_colab_link": true
    }
  },
  "cells": [
    {
      "cell_type": "markdown",
      "metadata": {
        "id": "view-in-github",
        "colab_type": "text"
      },
      "source": [
        "<a href=\"https://colab.research.google.com/github/light-lamp/Datalabs-python-worksheets/blob/main/Copy_of_01_intro.ipynb\" target=\"_parent\"><img src=\"https://colab.research.google.com/assets/colab-badge.svg\" alt=\"Open In Colab\"/></a>"
      ]
    },
    {
      "cell_type": "markdown",
      "metadata": {
        "id": "lLfxxLAjjy80"
      },
      "source": [
        "![DSL_logo](https://github.com/BrockDSL/Intro_to_Python_Workshop/blob/master/dsl_logo.png?raw=1)\n",
        "\n",
        "\n",
        "# Introduction to Python!\n",
        "\n",
        "Welcome to the Digital Scholarship Lab introduction to Python class. By the end of today we'll know all about the following;\n",
        "- variables\n",
        "- math\n",
        "- conditional\n",
        "- loops\n",
        "- functions\n",
        "\n",
        "We'll also do some basic text analysis (if time allows)\n",
        "\n",
        "\n",
        "We'll use the Zoom's chat feature to interact.\n",
        "\n",
        "Be sure to enable line numbers by looking for the 'gear' icon and checking the box in the 'Editor' panel.\n",
        "\n",
        "Be sure to also 'Save a Copy' under the Edit menu."
      ]
    },
    {
      "cell_type": "markdown",
      "metadata": {
        "id": "Oj0LGDdEjy83"
      },
      "source": [
        "## Python via Jupyter\n",
        "\n",
        "- Jupyter notebooks allow us to have code in a webpage\n",
        "- We'll use Python version 3! Honestly you shouldn't be using Python 2.X any longer\n",
        "- Each bit of code is in a 'cell'. We hit the play button to run each cell\n",
        "- Try it with the next cell."
      ]
    },
    {
      "cell_type": "code",
      "metadata": {
        "id": "w2ZbEnt9jy83",
        "colab": {
          "base_uri": "https://localhost:8080/"
        },
        "outputId": "b1942090-c12a-416d-cdba-351a607cadc9"
      },
      "source": [
        "# We are going to ask for the user to input their name\n",
        "# We'll then tell that person hello\n",
        "\n",
        "user_name = input(\"What is your name? \")\n",
        "print(\"Hello \" + user_name)\n"
      ],
      "execution_count": null,
      "outputs": [
        {
          "output_type": "stream",
          "text": [
            "What is your name? Jay\n",
            "Hello Jay\n"
          ],
          "name": "stdout"
        }
      ]
    },
    {
      "cell_type": "markdown",
      "metadata": {
        "id": "6CVwa31Rjy84"
      },
      "source": [
        "***\n",
        "\n",
        "## Variables, Printing and Comments\n",
        "\n",
        "- Variable can hold values and come in different types, as we say earlier the user's name is in a variable called user_name\n",
        "- variables can all be strings, integers, real numbers, or pretty much anything else\n",
        "- when we want to print something we use the function `print()`\n",
        "- Anything after a `#` is a comment, it is ignored by Python"
      ]
    },
    {
      "cell_type": "code",
      "metadata": {
        "id": "-w4r9w9Cjy85"
      },
      "source": [
        "# A number with a decimal is called a real\n",
        "pi = 3.14\n",
        "\n",
        "#A number with no decima is called an integer\n",
        "items_in_a_dozen = 12\n",
        "\n",
        "#Text in variable is called a string\n",
        "favourite_color = \"blue\"\n",
        "\n",
        "#You can list multiple values in one variable\n",
        "#This is called a list, they can have anything in them\n",
        "\n",
        "Y_Axis = [0, 0.1, 0.2, 0.3, 0.4, 0.5]\n",
        "crayon_colours = [\"red\",\"blue\",\"yellow\"]"
      ],
      "execution_count": null,
      "outputs": []
    },
    {
      "cell_type": "markdown",
      "metadata": {
        "id": "oqdxOmqjjy86"
      },
      "source": [
        "Try questions Q1 - Q3 and type \"Done!\" in the chat when you are finished"
      ]
    },
    {
      "cell_type": "markdown",
      "metadata": {
        "id": "XAVaqiG0jy86"
      },
      "source": [
        "- **Q1** Can you create a variable called `age` and give set it to your age in years? "
      ]
    },
    {
      "cell_type": "code",
      "metadata": {
        "id": "SsSd6XA0jy86"
      },
      "source": [
        "age = 60"
      ],
      "execution_count": null,
      "outputs": []
    },
    {
      "cell_type": "markdown",
      "metadata": {
        "id": "tK3s8Ga1jy87"
      },
      "source": [
        "- **Q2** Can you print your age to the screen?"
      ]
    },
    {
      "cell_type": "code",
      "metadata": {
        "id": "ZfiLhui9jy87"
      },
      "source": [
        "age = 60\n",
        "print(age)"
      ],
      "execution_count": null,
      "outputs": []
    },
    {
      "cell_type": "markdown",
      "metadata": {
        "id": "zgSxHRrXjy87"
      },
      "source": [
        "- If we want to combine things and print them all together we join them with at `+` just like we saw above\n",
        "\n",
        "`print(\"Hello \" + user_name)`"
      ]
    },
    {
      "cell_type": "markdown",
      "metadata": {
        "id": "nlgZXl63jy88"
      },
      "source": [
        "- **Q3** Can you modify favourite colour above, re-run the cell and complete the print statement that follows"
      ]
    },
    {
      "cell_type": "code",
      "metadata": {
        "id": "29PdDyjyjy88",
        "colab": {
          "base_uri": "https://localhost:8080/",
          "height": 135
        },
        "outputId": "c4d56341-5737-467f-91ce-ed0225bc6ab7"
      },
      "source": [
        "print(\"My name is \" + + \"and by favourite colour is\" + )"
      ],
      "execution_count": null,
      "outputs": [
        {
          "output_type": "error",
          "ename": "SyntaxError",
          "evalue": "ignored",
          "traceback": [
            "\u001b[0;36m  File \u001b[0;32m\"<ipython-input-4-6c5cf02f0659>\"\u001b[0;36m, line \u001b[0;32m1\u001b[0m\n\u001b[0;31m    print(\"My name is \" + + \"and by favourite colour is\" + )\u001b[0m\n\u001b[0m                                                           ^\u001b[0m\n\u001b[0;31mSyntaxError\u001b[0m\u001b[0;31m:\u001b[0m invalid syntax\n"
          ]
        }
      ]
    },
    {
      "cell_type": "markdown",
      "metadata": {
        "id": "FDKZWN4Yjy88"
      },
      "source": [
        "***\n",
        "\n",
        "## A Python thing to keep in mind!\n",
        "\n",
        "- Some programming languages need a `;` at the end of a line of code, not Python!\n",
        "- With Python you need to **indent** your code, the rest of the examples will demonstrate this\n",
        "\n"
      ]
    },
    {
      "cell_type": "markdown",
      "metadata": {
        "id": "ok4BFE3Njy88"
      },
      "source": [
        "***\n",
        "\n",
        "## Variables - Dictionaries\n",
        "\n",
        "- These are fancy variables\n",
        "- These are a bit more complicated as they hold both a 'key' and a 'value'.\n"
      ]
    },
    {
      "cell_type": "code",
      "metadata": {
        "id": "oxlOt1MYjy89"
      },
      "source": [
        "phone_numbers = {\n",
        "    \"Mom\":\"555-8980\",\n",
        "    \"Joe\":\"555-1021\"\n",
        "}\n",
        "\n",
        "toronto_weather = {\n",
        "    \"Monday\": 10,\n",
        "    \"Tuesday\" : 12,\n",
        "    \"Wednesday\" : 15,\n",
        "    \"Thursday\" : 10,\n",
        "    \"Friday\" : 9,\n",
        "    \"Saturday\" : 6,\n",
        "    \"Sunday\" : 6\n",
        "    }"
      ],
      "execution_count": null,
      "outputs": []
    },
    {
      "cell_type": "markdown",
      "metadata": {
        "id": "EtRSTXkPjy89"
      },
      "source": [
        "- We can print a dictionary in a very similar way to other variables like we saw earlier."
      ]
    },
    {
      "cell_type": "code",
      "metadata": {
        "id": "w0FXj6e4jy89",
        "colab": {
          "base_uri": "https://localhost:8080/"
        },
        "outputId": "86197614-48d8-4c85-f748-83390792b50e"
      },
      "source": [
        "phone_numbers = {\n",
        "    \"Mom\":\"555-8980\",\n",
        "    \"Joe\":\"555-1021\"\n",
        "}\n",
        "print(phone_numbers)"
      ],
      "execution_count": null,
      "outputs": [
        {
          "output_type": "stream",
          "text": [
            "{'Mom': '555-8980', 'Joe': '555-1021'}\n"
          ],
          "name": "stdout"
        }
      ]
    },
    {
      "cell_type": "markdown",
      "metadata": {
        "id": "YCKhruGIjy8-"
      },
      "source": [
        "- You can do some interesting things with dictionaries, (we'll see more as time goes on)\n",
        "- For example you can print out different parts of the dictionary by adding in a `key`"
      ]
    },
    {
      "cell_type": "code",
      "metadata": {
        "id": "2VFzZHnxjy8-",
        "colab": {
          "base_uri": "https://localhost:8080/"
        },
        "outputId": "1da7e4ae-6310-4c98-bb78-2eb42784ebb4"
      },
      "source": [
        "toronto_weather = {\n",
        "    \"Monday\": 10,\n",
        "    \"Tuesday\" : 12,\n",
        "    \"Wednesday\" : 15,\n",
        "    \"Thursday\" : 10,\n",
        "    \"Friday\" : 9,\n",
        "    \"Saturday\" : 6,\n",
        "    \"Sunday\" : 6\n",
        "    }\n",
        "print(toronto_weather[\"Monday\"])"
      ],
      "execution_count": null,
      "outputs": [
        {
          "output_type": "stream",
          "text": [
            "10\n"
          ],
          "name": "stdout"
        }
      ]
    },
    {
      "cell_type": "markdown",
      "metadata": {
        "id": "klOBtVXbjy8-"
      },
      "source": [
        "Try questions Q4-Q6 below and type \"Finished!\" in the chat when you are done."
      ]
    },
    {
      "cell_type": "markdown",
      "metadata": {
        "id": "govg4cw4jy8-"
      },
      "source": [
        "- **Q4** How can we print Wednesday's weather?"
      ]
    },
    {
      "cell_type": "code",
      "metadata": {
        "id": "-J6cH_4_jy8_",
        "colab": {
          "base_uri": "https://localhost:8080/"
        },
        "outputId": "413ef43d-aba7-43b1-a6ae-d803952d20e4"
      },
      "source": [
        "toronto_weather = {\n",
        "    \"Monday\": 10,\n",
        "    \"Tuesday\" : 12,\n",
        "    \"Wednesday\" : 15,\n",
        "    \"Thursday\" : 10,\n",
        "    \"Friday\" : 9,\n",
        "    \"Saturday\" : 6,\n",
        "    \"Sunday\" : 6\n",
        "    }\n",
        "print(toronto_weather[\"Wednesday\"])\n"
      ],
      "execution_count": null,
      "outputs": [
        {
          "output_type": "stream",
          "text": [
            "15\n"
          ],
          "name": "stdout"
        }
      ]
    },
    {
      "cell_type": "markdown",
      "metadata": {
        "id": "M1kheS_9jy8_"
      },
      "source": [
        "- **Q5** How can we print Saturday's weather?"
      ]
    },
    {
      "cell_type": "code",
      "metadata": {
        "id": "FsEkewmXjy8_",
        "colab": {
          "base_uri": "https://localhost:8080/"
        },
        "outputId": "10354ec0-6174-424e-f490-dd4238954647"
      },
      "source": [
        "toronto_weather = {\n",
        "    \"Monday\": 10,\n",
        "    \"Tuesday\" : 12,\n",
        "    \"Wednesday\" : 15,\n",
        "    \"Thursday\" : 10,\n",
        "    \"Friday\" : 9,\n",
        "    \"Saturday\" : 6,\n",
        "    \"Sunday\" : 6\n",
        "    }\n",
        "print(toronto_weather[\"Saturday\"])"
      ],
      "execution_count": null,
      "outputs": [
        {
          "output_type": "stream",
          "text": [
            "6\n"
          ],
          "name": "stdout"
        }
      ]
    },
    {
      "cell_type": "markdown",
      "metadata": {
        "id": "OYAUqfx7jy8_"
      },
      "source": [
        "- **Q6** Print Joe's phone number."
      ]
    },
    {
      "cell_type": "code",
      "metadata": {
        "id": "oRLohCiujy8_",
        "colab": {
          "base_uri": "https://localhost:8080/"
        },
        "outputId": "623d894d-63b6-4f6f-9d38-0e3a86603668"
      },
      "source": [
        "phone_numbers = {\n",
        "    \"Mom\":\"555-8980\",\n",
        "    \"Joe\":\"555-1021\"\n",
        "}\n",
        "print(phone_numbers[\"Joe\"])"
      ],
      "execution_count": null,
      "outputs": [
        {
          "output_type": "stream",
          "text": [
            "555-1021\n"
          ],
          "name": "stdout"
        }
      ]
    },
    {
      "cell_type": "markdown",
      "metadata": {
        "id": "JJOpRJlMjy8_"
      },
      "source": [
        "***\n",
        "\n",
        "## Doing Math\n",
        "\n",
        "As you'd expect with a programming language Python is pretty good at doing math. The basic operators you can use are as follows:\n",
        "\n",
        "- `*` is for multiplication\n",
        "- `+` is for addition\n",
        "- `-` is the subtraction\n",
        "- `%` is the remainder\n",
        "- `/` is division\n",
        "\n",
        "Let's re-use our dictionary variable about the weather from earlier."
      ]
    },
    {
      "cell_type": "markdown",
      "metadata": {
        "id": "X6qGSTocjy9A"
      },
      "source": [
        "- Let's find the average recorded for the weekdays\n",
        "- Another Python hint, if you need to go across multiple lines use `\\` like in the following"
      ]
    },
    {
      "cell_type": "code",
      "metadata": {
        "id": "NQekCvRljy9A"
      },
      "source": [
        "five_day_total = toronto_weather[\"Monday\"] + \\\n",
        "                    toronto_weather[\"Tuesday\"] + \\\n",
        "                    toronto_weather[\"Wednesday\"] + \\\n",
        "                    toronto_weather[\"Thursday\"] + \\\n",
        "                    toronto_weather[\"Friday\"]\n",
        "\n",
        "print(five_day_total / 5)"
      ],
      "execution_count": null,
      "outputs": []
    },
    {
      "cell_type": "markdown",
      "metadata": {
        "id": "Er5LMek5jy9A"
      },
      "source": [
        "- All of our temp data is in **C**\n",
        "- What if we want to know it in **F**?"
      ]
    },
    {
      "cell_type": "code",
      "metadata": {
        "id": "3L_2QcdOjy9B",
        "colab": {
          "base_uri": "https://localhost:8080/"
        },
        "outputId": "7c1d50e4-79d5-4877-d37a-07ab8b55c99e"
      },
      "source": [
        "toronto_weather = {\n",
        "    \"Monday\": 10,\n",
        "    \"Tuesday\" : 12,\n",
        "    \"Wednesday\" : 15,\n",
        "    \"Thursday\" : 10,\n",
        "    \"Friday\" : 9,\n",
        "    \"Saturday\" : 6,\n",
        "    \"Sunday\" : 6\n",
        "    }\n",
        "print(toronto_weather[\"Monday\"] * 10/5 + 32)"
      ],
      "execution_count": null,
      "outputs": [
        {
          "output_type": "stream",
          "text": [
            "52.0\n"
          ],
          "name": "stdout"
        }
      ]
    },
    {
      "cell_type": "markdown",
      "metadata": {
        "id": "xwQDtVMvjy9B"
      },
      "source": [
        "Try questions Q7 - Q10 and type \"Completed\" in the chat box when you are done."
      ]
    },
    {
      "cell_type": "markdown",
      "metadata": {
        "id": "a_OR0cIOjy9B"
      },
      "source": [
        "- **Q7** Can you print out Thursday's temp in F?"
      ]
    },
    {
      "cell_type": "code",
      "metadata": {
        "id": "1HC7QZ9Tjy9B",
        "colab": {
          "base_uri": "https://localhost:8080/",
          "height": 171
        },
        "outputId": "32f88470-4de8-4355-98b6-6c7f830dc331"
      },
      "source": [
        "print(toronto_weather([\"Saturday\"],[\"Sunday\"]) * 6/5 + 32)"
      ],
      "execution_count": null,
      "outputs": [
        {
          "output_type": "error",
          "ename": "TypeError",
          "evalue": "ignored",
          "traceback": [
            "\u001b[0;31m---------------------------------------------------------------------------\u001b[0m",
            "\u001b[0;31mTypeError\u001b[0m                                 Traceback (most recent call last)",
            "\u001b[0;32m<ipython-input-20-f042bde6199f>\u001b[0m in \u001b[0;36m<module>\u001b[0;34m()\u001b[0m\n\u001b[0;32m----> 1\u001b[0;31m \u001b[0mprint\u001b[0m\u001b[0;34m(\u001b[0m\u001b[0mtoronto_weather\u001b[0m\u001b[0;34m(\u001b[0m\u001b[0;34m[\u001b[0m\u001b[0;34m\"Saturday\"\u001b[0m\u001b[0;34m]\u001b[0m\u001b[0;34m,\u001b[0m\u001b[0;34m[\u001b[0m\u001b[0;34m\"Sunday\"\u001b[0m\u001b[0;34m]\u001b[0m\u001b[0;34m)\u001b[0m \u001b[0;34m*\u001b[0m \u001b[0;36m6\u001b[0m\u001b[0;34m/\u001b[0m\u001b[0;36m5\u001b[0m \u001b[0;34m+\u001b[0m \u001b[0;36m32\u001b[0m\u001b[0;34m)\u001b[0m\u001b[0;34m\u001b[0m\u001b[0;34m\u001b[0m\u001b[0m\n\u001b[0m",
            "\u001b[0;31mTypeError\u001b[0m: 'dict' object is not callable"
          ]
        }
      ]
    },
    {
      "cell_type": "markdown",
      "metadata": {
        "id": "T3hJG6GOjy9B"
      },
      "source": [
        "- **Q8** Can you print out the average temp from the weekend?"
      ]
    },
    {
      "cell_type": "code",
      "metadata": {
        "id": "iPBlAZf1jy9B"
      },
      "source": [
        "print(toronto_weather[\"Thursday\"] * 9/5 + 32)"
      ],
      "execution_count": null,
      "outputs": []
    },
    {
      "cell_type": "markdown",
      "metadata": {
        "id": "MM_AI6sWjy9C"
      },
      "source": [
        "- **Q9** Can you print how many days you've been alive for (approximately) using the `age` variable?"
      ]
    },
    {
      "cell_type": "code",
      "metadata": {
        "id": "ZqwXp39Yjy9C"
      },
      "source": [
        "age = \n",
        "print()"
      ],
      "execution_count": null,
      "outputs": []
    },
    {
      "cell_type": "markdown",
      "metadata": {
        "id": "wX0Dvb8Kjy9C"
      },
      "source": [
        "- **Q10** If you had 45 donuts and you were putting them in boxes that could hold 12 donuts, how many donuts would be in the last box?"
      ]
    },
    {
      "cell_type": "code",
      "metadata": {
        "id": "dI8mGu23jy9C",
        "colab": {
          "base_uri": "https://localhost:8080/"
        },
        "outputId": "4a222d17-db18-4ccd-d54b-5207b0fc65f7"
      },
      "source": [
        "lastbox = 45%12\n",
        "\n",
        "print(lastbox)"
      ],
      "execution_count": null,
      "outputs": [
        {
          "output_type": "stream",
          "text": [
            "9\n"
          ],
          "name": "stdout"
        }
      ]
    },
    {
      "cell_type": "markdown",
      "metadata": {
        "id": "IykBk-fLjy9C"
      },
      "source": [
        "*** \n",
        "\n",
        "## Loops \n",
        "\n",
        "- When we want to repeat the same thing over and over again we put it in something called a loop. \n",
        "- Python lets you do **a lot** with loops without typing in much text\n",
        "- Here `crayon` is a temporary variable that only exists in the loop\n",
        "- Let's return to our example from earlier"
      ]
    },
    {
      "cell_type": "code",
      "metadata": {
        "id": "E-4FWkxjjy9D",
        "colab": {
          "base_uri": "https://localhost:8080/"
        },
        "outputId": "5f35ddb3-fff6-413a-9cec-9784a7a307ad"
      },
      "source": [
        "crayon_colours = [\"red\",\"blue\",\"yellow\"]\n",
        "\n",
        "for crayon in crayon_colours:\n",
        "    print(crayon)\n"
      ],
      "execution_count": null,
      "outputs": [
        {
          "output_type": "stream",
          "text": [
            "red\n",
            "blue\n",
            "yellow\n"
          ],
          "name": "stdout"
        }
      ]
    },
    {
      "cell_type": "markdown",
      "metadata": {
        "id": "P29ypoOQjy9D"
      },
      "source": [
        "- The basic structure of a loop for us looks like the following\n",
        "\n",
        "```\n",
        "for loop_variable in list_variable:\n",
        "    #do this code\n",
        "```\n",
        "\n",
        "- `loop_variable` is a temporary variable that only exists in the loop. As soon as you finish the loop this goes away\n",
        "- `list_variable` is the variable you'd like to loop through. Often a list, but can be other things as we shall see\n"
      ]
    },
    {
      "cell_type": "markdown",
      "metadata": {
        "id": "74ogJ0s-jy9D"
      },
      "source": [
        "Try questions Q11 - Q13 and type \"All done\" into the chat box"
      ]
    },
    {
      "cell_type": "markdown",
      "metadata": {
        "id": "VcyduUTcjy9D"
      },
      "source": [
        "- **Q11** Can you write a loop to print all of the numbers in the list `numbers`?"
      ]
    },
    {
      "cell_type": "code",
      "metadata": {
        "id": "EXpNWk6zjy9E",
        "colab": {
          "base_uri": "https://localhost:8080/"
        },
        "outputId": "9982a51b-c2ed-4ebc-cc9a-c3bbf390f570"
      },
      "source": [
        "numbers = [1,2,3,4,5]\n",
        "\n",
        "for digit in numbers:\n",
        "  print(digit)\n",
        "  \n"
      ],
      "execution_count": null,
      "outputs": [
        {
          "output_type": "stream",
          "text": [
            "1\n",
            "2\n",
            "3\n",
            "4\n",
            "5\n"
          ],
          "name": "stdout"
        }
      ]
    },
    {
      "cell_type": "markdown",
      "metadata": {
        "id": "l1hi5HpOjy9E"
      },
      "source": [
        "- **Q12** Can you make a loop that prints all of the letters in your name?"
      ]
    },
    {
      "cell_type": "code",
      "metadata": {
        "id": "FRl8ZAykjy9F",
        "colab": {
          "base_uri": "https://localhost:8080/"
        },
        "outputId": "5b533a97-2d34-4677-8cb5-0f8c60a68bda"
      },
      "source": [
        "user_name = \"Maria Reindeer\"\n",
        "for letter in user_name:\n",
        "  print(letter)\n"
      ],
      "execution_count": null,
      "outputs": [
        {
          "output_type": "stream",
          "text": [
            "M\n",
            "a\n",
            "r\n",
            "i\n",
            "a\n",
            " \n",
            "R\n",
            "e\n",
            "i\n",
            "n\n",
            "d\n",
            "e\n",
            "e\n",
            "r\n"
          ],
          "name": "stdout"
        }
      ]
    },
    {
      "cell_type": "markdown",
      "metadata": {
        "id": "XaD6rVifjy9F"
      },
      "source": [
        "- **Q13** Can you write a loop that displays each letter of the string variable `alphabet`?"
      ]
    },
    {
      "cell_type": "code",
      "metadata": {
        "id": "vgvV9WNIjy9F",
        "colab": {
          "base_uri": "https://localhost:8080/"
        },
        "outputId": "040724c2-94fe-4784-c4ca-e1c88ad16894"
      },
      "source": [
        "alphabet = \"abcdefghijklmnopqrstuvwxyz\"\n",
        "for letter in alphabet:\n",
        "  print(letter)\n",
        "  "
      ],
      "execution_count": null,
      "outputs": [
        {
          "output_type": "stream",
          "text": [
            "a\n",
            "b\n",
            "c\n",
            "d\n",
            "e\n",
            "f\n",
            "g\n",
            "h\n",
            "i\n",
            "j\n",
            "k\n",
            "l\n",
            "m\n",
            "n\n",
            "o\n",
            "p\n",
            "q\n",
            "r\n",
            "s\n",
            "t\n",
            "u\n",
            "v\n",
            "w\n",
            "x\n",
            "y\n",
            "z\n"
          ],
          "name": "stdout"
        }
      ]
    },
    {
      "cell_type": "markdown",
      "metadata": {
        "id": "MXRRJQImjy9G"
      },
      "source": [
        "***\n",
        "\n",
        "## Dictionaries and Loops\n",
        "\n",
        "- Watch what happens when we try to do a loop through a dictionary"
      ]
    },
    {
      "cell_type": "code",
      "metadata": {
        "scrolled": false,
        "id": "N6xhWiuijy9G",
        "colab": {
          "base_uri": "https://localhost:8080/"
        },
        "outputId": "4e64a06b-1922-4e91-c637-a678cad66b4e"
      },
      "source": [
        "for day in toronto_weather:\n",
        "    print(day)"
      ],
      "execution_count": null,
      "outputs": [
        {
          "output_type": "stream",
          "text": [
            "Monday\n",
            "Tuesday\n",
            "Wednesday\n",
            "Thursday\n",
            "Friday\n",
            "Saturday\n",
            "Sunday\n"
          ],
          "name": "stdout"
        }
      ]
    },
    {
      "cell_type": "markdown",
      "metadata": {
        "id": "bS_w_A5mjy9H"
      },
      "source": [
        "- Since dictionaries are more complex, there are many ways to interact with them\n",
        "- We add `.values()` to get the values of the dictionary\n",
        "- We add `.keys()` to get the keys of the dictionary"
      ]
    },
    {
      "cell_type": "code",
      "metadata": {
        "scrolled": false,
        "id": "UGk0OVqEjy9H",
        "colab": {
          "base_uri": "https://localhost:8080/"
        },
        "outputId": "c2e87f89-43a4-445e-fd6d-0c5c3fc1f75b"
      },
      "source": [
        "#print all the items in our Dictionary\n",
        "\n",
        "for item in toronto_weather.values():\n",
        "    print(item)"
      ],
      "execution_count": null,
      "outputs": [
        {
          "output_type": "stream",
          "text": [
            "10\n",
            "12\n",
            "15\n",
            "10\n",
            "9\n",
            "6\n",
            "6\n"
          ],
          "name": "stdout"
        }
      ]
    },
    {
      "cell_type": "code",
      "metadata": {
        "id": "RuLQGwsVjy9H",
        "colab": {
          "base_uri": "https://localhost:8080/"
        },
        "outputId": "b74e40a7-27e4-4198-d344-2180e93e1fab"
      },
      "source": [
        "# print out the keys in our Dictionary\n",
        "\n",
        "for item in toronto_weather.keys():\n",
        "    print(item)\n"
      ],
      "execution_count": null,
      "outputs": [
        {
          "output_type": "stream",
          "text": [
            "Monday\n",
            "Tuesday\n",
            "Wednesday\n",
            "Thursday\n",
            "Friday\n",
            "Saturday\n",
            "Sunday\n"
          ],
          "name": "stdout"
        }
      ]
    },
    {
      "cell_type": "markdown",
      "metadata": {
        "id": "3-dAYK7hjy9H"
      },
      "source": [
        "***\n",
        "\n",
        "## Conditionals \n",
        "\n",
        "- When we want to run a piece of code only if something is true\n",
        "- We can compare with the following:\n",
        " - `==`\n",
        " - `>=`\n",
        " - `<=`\n",
        " - `<`\n",
        " - `>` \n",
        " - `!=`\n",
        " \n",
        " \n",
        " \n",
        " - When we just want to check one thing and if so run `code1`:\n",
        "```\n",
        "\n",
        "        if condition:\n",
        "            code1\n",
        "```\n",
        "\n",
        " - When we want to check something and do code1 or code2 if it is not so\n",
        "\n",
        "```\n",
        "        if condition:\n",
        "            code1\n",
        "        else:\n",
        "            code2\n",
        " ```"
      ]
    },
    {
      "cell_type": "markdown",
      "metadata": {
        "id": "9Xv8Xzj9jy9I"
      },
      "source": [
        "- Let's pretend that anything over 10 degrees is hot. Let' make a conditional that prints out if it is hot on **Wednesday**"
      ]
    },
    {
      "cell_type": "code",
      "metadata": {
        "id": "sz_wbXinjy9I"
      },
      "source": [
        "if toronto_weather[\"Wednesday\"] > 10:\n",
        "    print(\"Hot out today\")b"
      ],
      "execution_count": null,
      "outputs": []
    },
    {
      "cell_type": "markdown",
      "metadata": {
        "id": "HWTUB3Ksjy9I"
      },
      "source": [
        "Try questions Q14-Q15 and type \"check\" into the chat box when you are done"
      ]
    },
    {
      "cell_type": "markdown",
      "metadata": {
        "id": "pRQ5aMPojy9I"
      },
      "source": [
        "- **Q14** Can you complete the following to make it print out \"It is cold\" when it is less then 10 degrees?"
      ]
    },
    {
      "cell_type": "code",
      "metadata": {
        "id": "fbcSJwivjy9I"
      },
      "source": [
        "if toronto_weather[\"Sunday\"] 10:\n",
        "    print(\"It is cold\")"
      ],
      "execution_count": null,
      "outputs": []
    },
    {
      "cell_type": "markdown",
      "metadata": {
        "id": "Vt9NMFhZjy9J"
      },
      "source": [
        "- **Q15** Can you write a loop that goes through all of the days of the week and prints 'Hot out Today' if the tempurature is above 10, and 'It is cold' if it is below or equal to 10 degrees?"
      ]
    },
    {
      "cell_type": "code",
      "metadata": {
        "id": "1pKTAv5wjy9J"
      },
      "source": [
        "for temp in toronto_weather.values():\n",
        "    \n",
        "    if temp 10:\n",
        "        print(\"\")\n",
        "    else:\n",
        "        print(\"\")"
      ],
      "execution_count": null,
      "outputs": []
    },
    {
      "cell_type": "markdown",
      "metadata": {
        "id": "4I0_eQ11jy9K"
      },
      "source": [
        "***\n",
        "\n",
        "## Combining with boolean\n",
        "\n",
        "- Sometimes we want to combine conditionals because we want to test more complicated things\n",
        "- We can do this with the following:\n",
        " - `and`\n",
        " - `or`\n",
        " - `not`"
      ]
    },
    {
      "cell_type": "markdown",
      "metadata": {
        "id": "el3iTaH0jy9K"
      },
      "source": [
        "- Here's a quick game that demonstrates this\n",
        "- It will ask you to put a value in between 1 and 10\n",
        "- If you don't, it will let you know"
      ]
    },
    {
      "cell_type": "code",
      "metadata": {
        "id": "0k8RfUtIjy9K"
      },
      "source": [
        "#we can turn a variable into a integer with the int() function\n",
        "number = int(input(\"Pick any number between 1 - 10: \"))\n",
        "\n",
        "if number > 10 or number < 1:\n",
        "    print(\"Sorry you didn't pick a number between 1 - 10\")\n",
        "else:\n",
        "    print(\"Your number is between 1 and 10!\")"
      ],
      "execution_count": null,
      "outputs": []
    },
    {
      "cell_type": "markdown",
      "metadata": {
        "id": "dpvOuDIQjy9L"
      },
      "source": [
        "Try questions Q16, type \"all done\" when completed."
      ]
    },
    {
      "cell_type": "markdown",
      "metadata": {
        "id": "5gDQSgoejy9L"
      },
      "source": [
        "- **Q16** Can you re-write the conditional from the game above to use an `and` to do the same thing? you'll need to use some operators from the **Conditionals** section above. **HINT** It will be easier if you use <= and >= "
      ]
    },
    {
      "cell_type": "code",
      "metadata": {
        "id": "A5emLzTejy9L"
      },
      "source": [
        "#we can turn a variable into a integer with the int() function\n",
        "#as with most programming tasks there are more then 1 way to accomplish something\n",
        "number = int(input(\"Pick any number between 1 - 10: \"))\n",
        "\n",
        "if number and number :\n",
        "    print(\"Your number is between 1 and 10!\")\n",
        "else:\n",
        "    print(\"Sorry you didn't pick a number between 1-10\")"
      ],
      "execution_count": null,
      "outputs": []
    },
    {
      "cell_type": "markdown",
      "metadata": {
        "id": "uL-z02BBjy9L"
      },
      "source": [
        "***\n",
        "\n",
        "## Functions\n",
        "\n",
        "- Functions are bits of code that do a certain task in a certain way\n",
        "- We saw this earlier with the `print()` function\n",
        "- We also just used the `int()` function in our game\n",
        "- some functions need _arguments_ or _paramaters_. We pass those in the the round brackets. EG. we pass what string variable we want turned into an integer with the `int()` function.\n",
        "- we can create our own functions too"
      ]
    },
    {
      "cell_type": "code",
      "metadata": {
        "id": "DDHIRFGKjy9L"
      },
      "source": [
        "print(\"hello world\")\n",
        "int(number)"
      ],
      "execution_count": null,
      "outputs": []
    },
    {
      "cell_type": "markdown",
      "metadata": {
        "id": "MKjy8UX_jy9M"
      },
      "source": [
        "- A useful function is `len()` which tells you how long something is\n",
        "- Let's print how long our `user_name` is\n",
        "- Often a function can be applied to different types of variables and the results are ares you expect"
      ]
    },
    {
      "cell_type": "code",
      "metadata": {
        "id": "PZv9iW49jy9M"
      },
      "source": [
        "len(user_name)"
      ],
      "execution_count": null,
      "outputs": []
    },
    {
      "cell_type": "markdown",
      "metadata": {
        "id": "-48ZYswNjy9M"
      },
      "source": [
        "- **Q18** What would the following snippet print on the screen? (Try to figure it out before running it, put your answer in the chat)"
      ]
    },
    {
      "cell_type": "code",
      "metadata": {
        "id": "S0pc8SVSjy9N"
      },
      "source": [
        "len(toronto_weather)"
      ],
      "execution_count": null,
      "outputs": []
    },
    {
      "cell_type": "markdown",
      "metadata": {
        "id": "TiXeUqHBjy9N"
      },
      "source": [
        "The structure of a function looks like the following:\n",
        "\n",
        "\n",
        "```\n",
        "def name_of_function(arguments)\n",
        "    #code\n",
        "    #code\n",
        "    return answer #not mandtory\n",
        "    \n",
        "```\n",
        "When our function produces a value that we use later we make use of `return`. That will pass the variable back to the place that called it. \n",
        "\n",
        "\n",
        "\n",
        "We've already seen how we call a functon:\n",
        "\n",
        "```\n",
        "name_of_function(arguments)\n",
        "\n",
        "```\n",
        "\n",
        "If you would like to print out the results of your function you need to surround it with the `print` function\n",
        "\n",
        "```\n",
        "print(name_of_function(arguments))\n",
        "\n",
        "```"
      ]
    },
    {
      "cell_type": "markdown",
      "metadata": {
        "id": "IYL4MdwOjy9N"
      },
      "source": [
        "First let's reload our Toronto Weather Data"
      ]
    },
    {
      "cell_type": "code",
      "metadata": {
        "id": "9Xa4EMcyjy9O"
      },
      "source": [
        "toronto_weather = {\n",
        "    \"Monday\": 10,\n",
        "    \"Tuesday\" : 12,\n",
        "    \"Wednesday\" : 15,\n",
        "    \"Thursday\" : 10,\n",
        "    \"Friday\" : 9,\n",
        "    \"Saturday\" : 6,\n",
        "    \"Sunday\" : 6\n",
        "    }"
      ],
      "execution_count": null,
      "outputs": []
    },
    {
      "cell_type": "markdown",
      "metadata": {
        "id": "ZkLDul-cjy9O"
      },
      "source": [
        "- The function below will change the temp to **F** from **C**\n",
        "- Statements can get pretty long if you call lots of functions in them\n",
        "- Here we find **Monday's** temp in **F** and print it"
      ]
    },
    {
      "cell_type": "code",
      "metadata": {
        "id": "RtXW-fVTjy9O"
      },
      "source": [
        "def temp_to_f(celc):\n",
        "    return celc * 9/5 + 32\n",
        "\n",
        "print(temp_to_f(toronto_weather[\"Monday\"]))\n"
      ],
      "execution_count": null,
      "outputs": []
    },
    {
      "cell_type": "markdown",
      "metadata": {
        "id": "Kp82Qn9Ijy9O"
      },
      "source": [
        "Try questions Q19 - Q22. Type \"I'm finally finished!\" into the chat when you are done"
      ]
    },
    {
      "cell_type": "markdown",
      "metadata": {
        "id": "WvV9qsT9jy9P"
      },
      "source": [
        "- **Q19** Can you write a function that finds the average temperature for the week? You just need to modify line 10."
      ]
    },
    {
      "cell_type": "code",
      "metadata": {
        "id": "hHNEoXAXjy9P"
      },
      "source": [
        "def week_avg_c(toronto_weather):\n",
        "    \n",
        "    total_degrees  = 0\n",
        "    \n",
        "    for day in toronto_weather.values():\n",
        "        total_degrees = total_degrees + day\n",
        "    \n",
        "    #total_degrees has the sum of all 7 days of temp readings\n",
        "    #you just need to modify the next line: \n",
        "    return total_degrees \n",
        "\n",
        "print(week_avg_c(toronto_weather))\n"
      ],
      "execution_count": null,
      "outputs": []
    },
    {
      "cell_type": "markdown",
      "metadata": {
        "id": "FYCE4Xf2jy9P"
      },
      "source": [
        "- **Q20** Can you write a function that finds the average temp for the week but in **F**? You just need to modify line 4."
      ]
    },
    {
      "cell_type": "code",
      "metadata": {
        "id": "0n6rCwuKjy9P"
      },
      "source": [
        "def week_avg_f(toronto_weather):\n",
        "    \n",
        "    #You just need to add one thing to the line below\n",
        "    #HINT: It is something we've seen already\n",
        "    avg_temp_f = week_avg_c(toronto_weather)\n",
        "    return avg_temp_f\n",
        "\n",
        "\n",
        "print(week_avg_f(toronto_weather))\n"
      ],
      "execution_count": null,
      "outputs": []
    },
    {
      "cell_type": "markdown",
      "metadata": {
        "id": "JzxXYUcpjy9P"
      },
      "source": [
        "- **Q21** Can you write a function that finds the average temperature for the weekend? (Some of it is there for you) HINT: Check out question 19 for inspiration. You just need to modify lines 5 and 8."
      ]
    },
    {
      "cell_type": "code",
      "metadata": {
        "id": "nLDHumLHjy9P"
      },
      "source": [
        "\n",
        "def weekend_avg_c(toronto_weather):\n",
        "\n",
        "    #A weekend is Saturday and Sunday. You need to find the sum of those two temps \n",
        "    total_degrees = 0\n",
        "    \n",
        "    #total_degrees has the sum of the weekend temps.\n",
        "    return total_degrees\n",
        "\n",
        "\n",
        "print(weekend_avg_c(toronto_weather))\n",
        "\n"
      ],
      "execution_count": null,
      "outputs": []
    },
    {
      "cell_type": "markdown",
      "metadata": {
        "id": "meza0PDxjy9Q"
      },
      "source": [
        "- **Q22** Can you write a function that finds the average temperature for the weekend in **F**? (Some of it is ther for you) HINT: look at Q20 for inspiration"
      ]
    },
    {
      "cell_type": "code",
      "metadata": {
        "id": "J3frcWWKjy9Q"
      },
      "source": [
        "def weekend_avg_f(toronto_weather):\n",
        "\n",
        "    #You just need to change the line below\n",
        "    avg_temp_f = weekend_avg_c(toronto_weather)\n",
        "    return avg_temp_f\n",
        "\n",
        "\n",
        "print(weekend_avg_f(toronto_weather))\n"
      ],
      "execution_count": null,
      "outputs": []
    },
    {
      "cell_type": "markdown",
      "metadata": {
        "id": "D6wgMuldjy9Q"
      },
      "source": [
        "***\n",
        "\n",
        "# Congrats!\n",
        "\n",
        "You now know the basics of Python. Let's try another exercise that does some basic [text analysis](02_text_analysis.ipynb)"
      ]
    },
    {
      "cell_type": "markdown",
      "metadata": {
        "id": "QWJjBD9ijy9Q"
      },
      "source": [
        "## Further Reading\n",
        "\n",
        "- Now that we've handled the basics here are some interesting next steps you can persue.\n",
        "\n",
        "[Kaggle](https://www.kaggle.com/) - An online portal that teaches data science using Notebooks, also has contests for cash prizes\n",
        "\n",
        "[Python the Hard Way](https://learntocodetogether.com/learn-python-the-hard-way-free-ebook-download/) - Don't let the name fool you, this book is a great introduction to Python and programming more generally\n",
        "\n",
        "[Python 2.0](https://brockdsl.github.io/Python_2.0_Workshop/) - Our level 2 workshop that introduces more Python stuff\n",
        "\n",
        "[Data Analysis with Python and Sci Hub](https://brockdsl.github.io/SciHub_Workshop/) - A tutorial on using Python to analyze Sci-Hub data.\n"
      ]
    }
  ]
}