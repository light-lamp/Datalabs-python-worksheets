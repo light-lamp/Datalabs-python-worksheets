{
  "nbformat": 4,
  "nbformat_minor": 0,
  "metadata": {
    "colab": {
      "name": "Operators1.ipynb",
      "provenance": [],
      "collapsed_sections": [],
      "include_colab_link": true
    },
    "kernelspec": {
      "name": "python3",
      "display_name": "Python 3"
    }
  },
  "cells": [
    {
      "cell_type": "markdown",
      "metadata": {
        "id": "view-in-github",
        "colab_type": "text"
      },
      "source": [
        "<a href=\"https://colab.research.google.com/github/light-lamp/Datalabs-python-worksheets/blob/main/Operators1.ipynb\" target=\"_parent\"><img src=\"https://colab.research.google.com/assets/colab-badge.svg\" alt=\"Open In Colab\"/></a>"
      ]
    },
    {
      "cell_type": "markdown",
      "metadata": {
        "id": "3O7iro_BV0mL"
      },
      "source": [
        "# Operators - arithmetic\n",
        "\n",
        "---"
      ]
    },
    {
      "cell_type": "markdown",
      "metadata": {
        "id": "Nk7bg_hfLzu7"
      },
      "source": [
        "In Python, we can use the following arithmetic operators:  \n",
        "\n",
        "![Python operators](https://drive.google.com/uc?id=1EARs0OefvMwAULyNGGs01xYLW3lIAO9B)\n",
        "\n",
        "\n",
        "\n",
        "\n",
        "\n",
        "\n",
        "\n",
        "\n",
        "\n"
      ]
    },
    {
      "cell_type": "markdown",
      "metadata": {
        "id": "ohKiZuy-OnDN"
      },
      "source": [
        "---\n",
        "### Exercise 1 - multiplication of integers\n",
        "Write a function called **print_dog_human_age()** which will:  \n",
        "\n",
        "*  ask the user to input their dog's age and assign this to an integer variable called **dog_age**  \n",
        "*  calculate the dog’s age in human years by multiplying it by 7, assigning it to a new variable called **dog_human_age**  \n",
        "*  print the age in human years (`dog_human_age`)    \n",
        "\n",
        "Test Input:  \n",
        "4  \n",
        "\n",
        "Expected output:  \n",
        "28\n"
      ]
    },
    {
      "cell_type": "code",
      "metadata": {
        "id": "kWpM2m4nO7Ir",
        "colab": {
          "base_uri": "https://localhost:8080/"
        },
        "outputId": "c7b4f6a4-4f2e-4a40-e945-3eb41b4aace0"
      },
      "source": [
        "def print_dog_human_age():\n",
        "  dog_age= int(input(\"dog age:\"))\n",
        "  dog_human_age= (dog_age *7)\n",
        "  print (dog_human_age)\n",
        "\n",
        "print_dog_human_age()"
      ],
      "execution_count": null,
      "outputs": [
        {
          "output_type": "stream",
          "text": [
            "dog age:4\n",
            "28\n"
          ],
          "name": "stdout"
        }
      ]
    },
    {
      "cell_type": "markdown",
      "metadata": {
        "id": "fvxtRRcfOnGr"
      },
      "source": [
        "---\n",
        "### Exercise 2 - BIDMAS\n",
        "Write a function called **calculate_average()** which will:  \n",
        "\n",
        "*  ask the user for 3 seperate numbers, **num1**, **num2**, **num3**  \n",
        "*  calculate the **average** of the three numbers\n",
        "*  print the `average`, rounded to 2 decimal places  \n",
        "\n",
        "*Hint 1:  to round a number, use round(), e.g. round(`average`)  *\n",
        "*Hint 2: remember the BIDMAS order of operators and use brackets to change the order if necessary.*  \n",
        "\n",
        "Test Input:  \n",
        "3  \n",
        "5  \n",
        "9  \n",
        "\n",
        "Expected output:  \n",
        "5.67"
      ]
    },
    {
      "cell_type": "code",
      "metadata": {
        "colab": {
          "base_uri": "https://localhost:8080/"
        },
        "id": "spGXsC3dOEKv",
        "outputId": "dbd492ba-7805-4c2f-ff3a-d461bd79e8a0"
      },
      "source": [
        "def calculate_average():\n",
        "  num1= int(input(\"a number:\"))\n",
        "  num2= int(input(\"a number:\"))\n",
        "  num3= int(input(\"a number:\"))\n",
        "  mean= [num1, num2, num3]\n",
        "  average= sum(mean)/len(mean)\n",
        "  print(round(average,2))\n",
        "calculate_average()"
      ],
      "execution_count": null,
      "outputs": [
        {
          "output_type": "stream",
          "text": [
            "a number:3\n",
            "a number:5\n",
            "a number:9\n",
            "5.67\n"
          ],
          "name": "stdout"
        }
      ]
    },
    {
      "cell_type": "code",
      "metadata": {
        "id": "9KyOrZ-wN-jC"
      },
      "source": [
        ""
      ],
      "execution_count": null,
      "outputs": []
    },
    {
      "cell_type": "markdown",
      "metadata": {
        "id": "r9w0fiW-PR2D"
      },
      "source": [
        "---\n",
        "### Exercise 3 - BIDMAS\n",
        "\n",
        "Write a function called **calculate_avg_height()** which will:  \n",
        "\n",
        "*  ask the user to input their **height**  \n",
        "*  convert `height` to **height_centimeters** (multiply by 100)  \n",
        "*  print `height_centimeters`  \n",
        "\n",
        "*Remember, height in metres is usually a decimal, so data type matters*  \n",
        "\n",
        "Test Input:  \n",
        "1.67  \n",
        "\n",
        "Expected output:  \n",
        "167\n"
      ]
    },
    {
      "cell_type": "code",
      "metadata": {
        "id": "2dMgvQlUPirV",
        "colab": {
          "base_uri": "https://localhost:8080/"
        },
        "outputId": "887cddeb-3568-46b1-cc97-66f6074e8f2f"
      },
      "source": [
        "def calculate_average():\n",
        "  height= float(input(\"height:\"))\n",
        "  height_centimeters= str(round(height*100))\n",
        "  print(height_centimeters)\n",
        "calculate_average()"
      ],
      "execution_count": null,
      "outputs": [
        {
          "output_type": "stream",
          "text": [
            "height:1.67\n",
            "167\n"
          ],
          "name": "stdout"
        }
      ]
    },
    {
      "cell_type": "markdown",
      "metadata": {
        "id": "QTprQ2zhPi9L"
      },
      "source": [
        "---\n",
        "### Exercise 4 - float and formatting printing\n",
        "\n",
        "At the time of writing, the exchange rate from Pounds (£) to Euros (€) is 1.16 (£1 = €1.16).\n",
        "\n",
        "Write a function called **convert_currency(**) which will:\n",
        "\n",
        "*  ask a user to input an amount in **pounds**  \n",
        "*  calculate the equivalent number of **euros**  \n",
        "*  print `euros`, rounded to 2 decimal places  \n",
        "\n",
        "Test Input:  \n",
        "£60\n",
        "\n",
        "Expected output:  \n",
        "€69.6  \n",
        "\n",
        "*Remember, pounds is likely to be a decimal number and that the user should not enter the £ sign.*"
      ]
    },
    {
      "cell_type": "code",
      "metadata": {
        "colab": {
          "base_uri": "https://localhost:8080/"
        },
        "id": "eUhLbPy3e9E5",
        "outputId": "dfc0f258-40a7-42a2-ea6f-f7e05bf5357f"
      },
      "source": [
        "def convert_currency():\n",
        "  pounds= float(input(\"type pounds:\"))\n",
        "  euros= float(1.16)\n",
        "  currency= (pounds * euros)\n",
        "  print(\"e\", round(currency,2))\n",
        "convert_currency()"
      ],
      "execution_count": null,
      "outputs": [
        {
          "output_type": "stream",
          "text": [
            "type pounds:60\n",
            "e 69.6\n"
          ],
          "name": "stdout"
        }
      ]
    },
    {
      "cell_type": "markdown",
      "metadata": {
        "id": "Eur4tRWUQWYL"
      },
      "source": [
        "---\n",
        "### Exercise 5 - rounding\n",
        "\n",
        "Write a function called **calculate_stats()** which will:  \n",
        "\n",
        "*  assign the numbers 3.145, 5.6723 and 9.34 to the variables **num1**, **num2** and **num3** respectively  \n",
        "*  calculate the **total** of the three numbers, rounded to 2 decimal places  \n",
        "*  calculate the **average** of the numbers, rounded to 3 decimal places  \n",
        "*  print `total` and `average` in a message that labels them.\n",
        "\n",
        "Expected output:\n",
        "\n",
        "The total of the three numbers is 18.16  \n",
        "The average of the three numbers is 6.052\n",
        "\n",
        "*Remember to calculate the average you divide the total by the quantity of numbers, e.g. total/3*\n"
      ]
    },
    {
      "cell_type": "code",
      "metadata": {
        "colab": {
          "base_uri": "https://localhost:8080/"
        },
        "id": "ZJAXLzUTpk-n",
        "outputId": "6208b7b2-1538-4113-ffa8-bab19e636826"
      },
      "source": [
        "def calculate_stats():\n",
        "  num1= float(3.145)\n",
        "  num2= float(5.6723)\n",
        "  num3= float(9.34)\n",
        "  total= round(num1 + num2 + num3,2)\n",
        "  average= round(total/3,3)\n",
        "  print(\"The total of the three numbers is\",total)\n",
        "  print(\"The average of the three numbers is\",average)\n",
        "calculate_stats()\n",
        "  "
      ],
      "execution_count": null,
      "outputs": [
        {
          "output_type": "stream",
          "text": [
            "The total of the three numbers is 18.16\n",
            "The average of the three numbers is 6.053\n"
          ],
          "name": "stdout"
        }
      ]
    },
    {
      "cell_type": "markdown",
      "metadata": {
        "id": "jsV3uF5aRZ56"
      },
      "source": [
        "---\n",
        "### Exercise 6 - calculating volume\n",
        "\n",
        "Bill is moving house. He needs to know how much space his cardboard packing boxes have.   \n",
        "\n",
        "Write a function called **calculate_volume()** which will:   \n",
        "\n",
        "*  assign the value 3.2, 5.6 and 7.8 to the variables **base**, **width** and **height** respectively  \n",
        "*  calculate the **box_volume** rounded to 1 decimal place  \n",
        "*  print the `box_volume`\n",
        "\n",
        "*Hint: volume = base x width x height*\n",
        "\n",
        "Expected output:  \n",
        "139.8\n"
      ]
    },
    {
      "cell_type": "code",
      "metadata": {
        "id": "WVLFFYayRwcN",
        "colab": {
          "base_uri": "https://localhost:8080/"
        },
        "outputId": "73ae12f0-5d94-4591-e763-f0ba11460714"
      },
      "source": [
        "def calculate_volume():\n",
        "  base= 3.2\n",
        "  width= 5.6\n",
        "  height= 7.8\n",
        "  box_volume= round(base * width* height,1)\n",
        "  print(box_volume)\n",
        "calculate_volume()"
      ],
      "execution_count": null,
      "outputs": [
        {
          "output_type": "stream",
          "text": [
            "139.8\n"
          ],
          "name": "stdout"
        }
      ]
    },
    {
      "cell_type": "markdown",
      "metadata": {
        "id": "Apy8QqKIB3_c"
      },
      "source": [
        "---\n",
        "***Floor Division***  \n",
        "*So far, we have been using standard arithmetic operators. If we would like to divide without remainders (eg. no decimals) we can use floor division using the // operator.  This will always round down*.  \n",
        "\n",
        "*For example*:  \n",
        "*42/8 = 5.75*  \n",
        "*BUT*  \n",
        "4*2//8 = 5*"
      ]
    },
    {
      "cell_type": "markdown",
      "metadata": {
        "id": "eGo_VENXRwo0"
      },
      "source": [
        "---\n",
        "### Exercise 7 - calculating with volumes\n",
        "\n",
        "Bill needs to work out how many boxes he will need.  \n",
        "\n",
        "Building on what you did in the last exercise, write a function called **calculate_boxes(base, width, height)** which will:  \n",
        "\n",
        "*  calculate the volume of a box, using the **base**, **width** and **height** supplied in the brackets  \n",
        "*  ask Bill for the **total_volume** of his stuff  \n",
        "*  calculate the total **number_of_boxes** he will need, and print the `number_of_boxes`  \n",
        "\n",
        "*Hint: the `total` will not be a decimal number - you should use floor division and add one to the answer (for the box that will have the leftovers).*\n",
        "\n",
        "Test Input:  \n",
        "1500  \n",
        "\n",
        "Expected output:  \n",
        "11  \n"
      ]
    },
    {
      "cell_type": "code",
      "metadata": {
        "id": "0X6TKFubSIpT",
        "colab": {
          "base_uri": "https://localhost:8080/"
        },
        "outputId": "7742e74f-4d24-442a-8e85-c983dd24b073"
      },
      "source": [
        "def calculate_boxes():\n",
        "  # add your code below here to calculate the boxVolume, ask for totalVolume and calculate number of boxes\n",
        "  base= 3.2\n",
        "  width= 5.6\n",
        "  height= 7.8\n",
        "  box_volume= 139.8\n",
        "  \n",
        "  vol_stuff= float(input(\"vol Bill's stuff:\"))\n",
        "  total_boxes= float(vol_stuff//box_volume)\n",
        "  print(round(vol_stuff))\n",
        "  print(int(total_boxes + 1))\n",
        "calculate_boxes()\n"
      ],
      "execution_count": null,
      "outputs": [
        {
          "output_type": "stream",
          "text": [
            "vol Bill's stuff:1500\n",
            "1500\n",
            "11\n"
          ],
          "name": "stdout"
        }
      ]
    },
    {
      "cell_type": "markdown",
      "metadata": {
        "id": "paxj6AccSIwy"
      },
      "source": [
        "---\n",
        "### Exercise 8 - floor division\n",
        "\n",
        "Write a function called **calculate_parcel_weight()** which will:  \n",
        "\n",
        "*  ask the user to enter the weights, in kg, of four parcels (**weight1, weight2, weight3, weight4**)\n",
        "*  calculate the total **parcel_weight** and display this in a whole number of kg, rounded up  \n",
        "*  print the `parcel_weight`\n",
        "\n",
        "*Hint: round() could either round up or down.  Floor division could be a better option* \n",
        "\n",
        "Test Inputs:  \n",
        "1.23  \n",
        "2.84  \n",
        "1.675  \n",
        "3.03  \n",
        "\n",
        "Expected output:  \n",
        "9kg\n"
      ]
    },
    {
      "cell_type": "code",
      "metadata": {
        "id": "Lulkpg6rStwT",
        "colab": {
          "base_uri": "https://localhost:8080/"
        },
        "outputId": "29fe0d0a-c862-44f2-a794-e341ca68d0b4"
      },
      "source": [
        "def calculate_parcel_weight():\n",
        "  p1= float(input(\"weight of parcelKG\"))\n",
        "  p2= float(input(\"weight of parcelKG\"))\n",
        "  p3= float(input(\"weight of parcelKG\"))\n",
        "  p4= float(input(\"weight of parcelKG\"))\n",
        "  tot_parcel_weight= float(p1 + p2 + p3 + p4)\n",
        "  print(round(tot_parcel_weight),\"Kg\")\n",
        "calculate_parcel_weight()"
      ],
      "execution_count": null,
      "outputs": [
        {
          "output_type": "stream",
          "text": [
            "weight of parcelKG1.23\n",
            "weight of parcelKG2.84\n",
            "weight of parcelKG1.675\n",
            "weight of parcelKG3.03\n",
            "9 Kg\n"
          ],
          "name": "stdout"
        }
      ]
    },
    {
      "cell_type": "markdown",
      "metadata": {
        "id": "SduMAQwsXKiA"
      },
      "source": [
        "---\n",
        "### Exercise 9 - modulus\n",
        "\n",
        "Write a function called **get_pm_minutes()** which will:  \n",
        "\n",
        "*  ask the user to enter an afternoon **time** in 24 hour clock (e.g. 1350) \n",
        "*  use floor division to get the **hour** (ie divide by 100)  \n",
        "*  use modulus to get the **minutes**  \n",
        "*  subtract 12 to get the 12 hour clock storing the result back in `hour`      \n",
        "*  print a message to say that It is `minutes` minutes past `hour` PM\n",
        "\n",
        "Test Input:  \n",
        "1350  \n",
        "\n",
        "Expected output:  \n",
        "It is 50 minutes past 1 PM\n",
        "\n",
        "*(Is it possible to use this code to get the right hour for a morning time?  You will do this in the section that allows selection depending on value)*\n",
        "\n"
      ]
    },
    {
      "cell_type": "code",
      "metadata": {
        "id": "dSxM7C1dXK9g",
        "colab": {
          "base_uri": "https://localhost:8080/"
        },
        "outputId": "fd595f77-a848-4191-ab1c-dcdf8ad54bd5"
      },
      "source": [
        "def get_pm_minutes():\n",
        "  time= int(input(\"24hr time, eg 1350:\"))\n",
        "  hour= int(time//100)\n",
        "  minutes= int(hour% 60)\n",
        "  hour= int(minutes-12)\n",
        "  print(hour)\n",
        "  print(minutes)\n",
        "  #\n",
        "  print(\"it is\", minutes, \"minutes past\", hour, \"PM\")\n",
        "#d = datetime.strptime(\"6:56\", \"%H:%M\")??? Google return\n",
        "\n",
        "get_pm_minutes()\n"
      ],
      "execution_count": null,
      "outputs": [
        {
          "output_type": "stream",
          "text": [
            "24hr time, eg 1350:1350\n",
            "1\n",
            "13\n",
            "it is 13 minutes past 1 PM\n"
          ],
          "name": "stdout"
        }
      ]
    },
    {
      "cell_type": "markdown",
      "metadata": {
        "id": "HUwYL72HSt5b"
      },
      "source": [
        "---\n",
        "### Exercise 10 - How many tins of beans?  \n",
        "\n",
        "Write a function called **calculate_tins()** that will calculate how many tins of beans will fit in a cardboard box. Bean tins are *11cm tall* and *8cm* diameter.  All tins will be standing up and can be stacked in layers.  \n",
        "\n",
        "*  use the **height**, **width** and **depth** of the box supplied in the function’s brackets.   \n",
        "*  calculate the **number_of_tins** that can fit in the box   \n",
        "*  print the `number_of_tins` that can fit  \n",
        "\n",
        "*Hint: you will need to calculate the number of layers, and the number that will fit in each direction, the product (all of the numbers multiplied together) will tell you how many tins. All answers must be whole numbers*  \n",
        "\n",
        "\n",
        "Expected output:  \n",
        "24 tins will fit in this box  \n"
      ]
    },
    {
      "cell_type": "code",
      "metadata": {
        "colab": {
          "base_uri": "https://localhost:8080/"
        },
        "id": "WkuUXuvosboV",
        "outputId": "e9b3b1b4-b13a-4cc3-e749-5698c366b0f9"
      },
      "source": [
        "def calculate_tins():\n",
        "   # add your code below here\n",
        "  height_b= 24\n",
        "  width_b= 50\n",
        "  depth_b= 18\n",
        "  tin_h= 11\n",
        "  tin_d = 8\n",
        "\n",
        "  layers= height_b//tin_h\n",
        "  print(layers)\n",
        "  tins_in_width= width_b//tin_d\n",
        "  print(tins_in_width)\n",
        "  tins_in_depth= depth_b//tin_d\n",
        "  print(tins_in_depth)\n",
        "  num_tins= (tins_in_width * tins_in_depth *2)\n",
        "  print(num_tins)\n",
        "\n",
        "calculate_tins()"
      ],
      "execution_count": 13,
      "outputs": [
        {
          "output_type": "stream",
          "text": [
            "2\n",
            "6\n",
            "2\n",
            "24\n"
          ],
          "name": "stdout"
        }
      ]
    },
    {
      "cell_type": "code",
      "metadata": {
        "id": "Uyy68UJaGJM5"
      },
      "source": [
        "#Franks session \n",
        "a= 200\n",
        "b= 200\n",
        "if b != a:\n",
        "    print(\"b is greater than a\")"
      ],
      "execution_count": null,
      "outputs": []
    },
    {
      "cell_type": "code",
      "metadata": {
        "colab": {
          "base_uri": "https://localhost:8080/"
        },
        "id": "M1fmR9ndHINs",
        "outputId": "1d101734-3bbd-4896-fd47-769d20ea9c55"
      },
      "source": [
        "#Franks session \n",
        "a= 200\n",
        "b= 200\n",
        "if b == a:\n",
        "    print(\"banana#\")"
      ],
      "execution_count": null,
      "outputs": [
        {
          "output_type": "stream",
          "text": [
            "banana#\n"
          ],
          "name": "stdout"
        }
      ]
    },
    {
      "cell_type": "code",
      "metadata": {
        "colab": {
          "base_uri": "https://localhost:8080/"
        },
        "id": "9QWGb7xRHYga",
        "outputId": "39c4995e-9082-4881-c511-3f1f8d18ccaf"
      },
      "source": [
        "#input box comes in as a string\n",
        "mark = input(\"What is your mark\")\n",
        "#cast it as a float\n",
        "mark = float(mark)\n",
        "#function check grades\n",
        "\n",
        "\n",
        "\n",
        "\n",
        "def grade_exam():\n",
        "  if(mark >=70):\n",
        "    grade = \"A\"\n",
        "  elif(mark >=60):\n",
        "    grade= \"B\" \n",
        "  elif(mark >=50):\n",
        "    grade = \"C\"\n",
        "  else:\n",
        "    grade = \"Fail\"\n",
        "  print(grade)\n",
        "grade_exam()\n"
      ],
      "execution_count": null,
      "outputs": [
        {
          "output_type": "stream",
          "text": [
            "What is your mark65\n",
            "B\n"
          ],
          "name": "stdout"
        }
      ]
    },
    {
      "cell_type": "code",
      "metadata": {
        "colab": {
          "base_uri": "https://localhost:8080/",
          "height": 233
        },
        "id": "GkAnoAC4JLFO",
        "outputId": "da05d884-560e-4aee-c437-35fcf6c288b5"
      },
      "source": [
        " def checkuser(user_input, pass_input):\n",
        "  user_input= input(\"What is your user name\")\n",
        "  pass_input= input(\"What is your password\")\n",
        "  #stubcode\n",
        "  username = jay\n",
        "  password = code\n",
        "\n",
        "  user_input= input(\"What is your user name\")\n",
        "  pass_input= input(\"What is your password\")\n",
        "  if (userinput == username) and (pass_input==password):\n",
        "    #also try or or !^ (above 6) (uses and logic)\n",
        "  print(\"Welcome to the system\")\n",
        "  else:\n",
        "    print(\"Fail\")\n",
        "checkuser(user_input, pass_input)\n",
        "\n",
        "\n"
      ],
      "execution_count": null,
      "outputs": [
        {
          "output_type": "error",
          "ename": "NameError",
          "evalue": "ignored",
          "traceback": [
            "\u001b[0;31m---------------------------------------------------------------------------\u001b[0m",
            "\u001b[0;31mNameError\u001b[0m                                 Traceback (most recent call last)",
            "\u001b[0;32m<ipython-input-72-7284e68faa65>\u001b[0m in \u001b[0;36m<module>\u001b[0;34m()\u001b[0m\n\u001b[1;32m     13\u001b[0m  \u001b[0;32melse\u001b[0m\u001b[0;34m:\u001b[0m\u001b[0;34m\u001b[0m\u001b[0;34m\u001b[0m\u001b[0m\n\u001b[1;32m     14\u001b[0m    \u001b[0mprint\u001b[0m\u001b[0;34m(\u001b[0m\u001b[0;34m\"Fail\"\u001b[0m\u001b[0;34m)\u001b[0m\u001b[0;34m\u001b[0m\u001b[0;34m\u001b[0m\u001b[0m\n\u001b[0;32m---> 15\u001b[0;31m \u001b[0mcheckuser\u001b[0m\u001b[0;34m(\u001b[0m\u001b[0muser_input\u001b[0m\u001b[0;34m,\u001b[0m \u001b[0mpass_input\u001b[0m\u001b[0;34m)\u001b[0m\u001b[0;34m\u001b[0m\u001b[0;34m\u001b[0m\u001b[0m\n\u001b[0m\u001b[1;32m     16\u001b[0m \u001b[0;34m\u001b[0m\u001b[0m\n\u001b[1;32m     17\u001b[0m \u001b[0;34m\u001b[0m\u001b[0m\n",
            "\u001b[0;31mNameError\u001b[0m: name 'user_input' is not defined"
          ]
        }
      ]
    },
    {
      "cell_type": "markdown",
      "metadata": {
        "id": "V4ylUsRuRFKK"
      },
      "source": [
        ""
      ]
    },
    {
      "cell_type": "code",
      "metadata": {
        "colab": {
          "base_uri": "https://localhost:8080/"
        },
        "id": "bzhgi7LkS3LL",
        "outputId": "0644c28a-7fcd-47ef-ecef-1837e86da456"
      },
      "source": [
        "i=1\n",
        "while i<=20:\n",
        "    print(i)  \n",
        "    if i==6:\n",
        "      print(\"we have now reached 6\")\n",
        "      break\n",
        "    i+=1\n",
        "\n"
      ],
      "execution_count": null,
      "outputs": [
        {
          "output_type": "stream",
          "text": [
            "1\n",
            "2\n",
            "3\n",
            "4\n",
            "5\n",
            "6\n",
            "we have now reached 6\n"
          ],
          "name": "stdout"
        }
      ]
    },
    {
      "cell_type": "code",
      "metadata": {
        "colab": {
          "base_uri": "https://localhost:8080/"
        },
        "id": "-Gi3thKrUSUd",
        "outputId": "0f34b31b-08c8-45b8-d03f-3bbbcd678376"
      },
      "source": [
        "i=1\n",
        "while i<=20:\n",
        "  i+=1\n",
        "  if i==6:\n",
        "    continue\n",
        "  print(i)\n",
        "      \n"
      ],
      "execution_count": null,
      "outputs": [
        {
          "output_type": "stream",
          "text": [
            "2\n",
            "3\n",
            "4\n",
            "5\n",
            "7\n",
            "8\n",
            "9\n",
            "10\n",
            "11\n",
            "12\n",
            "13\n",
            "14\n",
            "15\n",
            "16\n",
            "17\n",
            "18\n",
            "19\n",
            "20\n",
            "21\n"
          ],
          "name": "stdout"
        }
      ]
    }
  ]
}