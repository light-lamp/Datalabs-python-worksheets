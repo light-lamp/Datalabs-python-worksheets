{
  "nbformat": 4,
  "nbformat_minor": 0,
  "metadata": {
    "colab": {
      "name": "Copy of Copy of Describing data.ipynb",
      "provenance": [],
      "collapsed_sections": [],
      "include_colab_link": true
    },
    "kernelspec": {
      "name": "python3",
      "display_name": "Python 3"
    },
    "language_info": {
      "name": "python"
    }
  },
  "cells": [
    {
      "cell_type": "markdown",
      "metadata": {
        "id": "view-in-github",
        "colab_type": "text"
      },
      "source": [
        "<a href=\"https://colab.research.google.com/github/light-lamp/Datalabs-python-worksheets/blob/main/Copy_of_Copy_of_Describing_data.ipynb\" target=\"_parent\"><img src=\"https://colab.research.google.com/assets/colab-badge.svg\" alt=\"Open In Colab\"/></a>"
      ]
    },
    {
      "cell_type": "markdown",
      "metadata": {
        "id": "mM0KF3nvGREF"
      },
      "source": [
        "# Describing data with summary statistics\n",
        "---\n",
        "\n",
        "This worksheet is tied to the Pandas Getting Started Tutorials, picking out particular tutorials to link them into a theme here.\n",
        "\n",
        "We will focus on describing data.  This is the least risky in terms of bias and inaccurate conclusions as it should focus just on what data is presented to us.\n",
        "\n",
        "Each exercise will ask you to work through on tutorial on the Getting Started page, to try the code from the tutorial here and to try a second, similar action."
      ]
    },
    {
      "cell_type": "markdown",
      "metadata": {
        "id": "kTyelqrywYQl"
      },
      "source": [
        "---\n",
        "\n",
        "The practice data from the tutorials comes from a dataset on Titanic passengers.\n"
      ]
    },
    {
      "cell_type": "markdown",
      "metadata": {
        "id": "Cb3JAeCCOeN9"
      },
      "source": [
        "### Exercise 1 - open the Titanic dataset\n",
        "---\n",
        "\n",
        "The Titanic dataset is stored at this URL:\n",
        "https://raw.githubusercontent.com/pandas-dev/pandas/master/doc/data/titanic.csv\n",
        "\n",
        "Read the dataset into a pandas dataframe that you will call **titanic**.\n",
        "\n",
        "**Test output**:  \n",
        "The shape of the dataframe will be (891, 12)"
      ]
    },
    {
      "cell_type": "code",
      "metadata": {
        "id": "bEhmZCf7GPzn",
        "colab": {
          "base_uri": "https://localhost:8080/"
        },
        "outputId": "29d18797-10ea-45a2-d13a-fdd49e69cc31"
      },
      "source": [
        "import pandas as pd\n",
        "titanic = pd.read_csv(\"https://raw.githubusercontent.com/pandas-dev/pandas/master/doc/data/titanic.csv\")\n",
        "#titanic.head()\n",
        "titanic.shape\n"
      ],
      "execution_count": null,
      "outputs": [
        {
          "output_type": "execute_result",
          "data": {
            "text/plain": [
              "(891, 12)"
            ]
          },
          "metadata": {
            "tags": []
          },
          "execution_count": 55
        }
      ]
    },
    {
      "cell_type": "markdown",
      "metadata": {
        "id": "bNNZCv5DQWAU"
      },
      "source": [
        "### Exercise 2 - get summary information about the dataframe\n",
        "---\n",
        "\n",
        "Read through the tutorials:  \n",
        "[What kind of data does pandas handle?](https://pandas.pydata.org/docs/getting_started/intro_tutorials/01_table_oriented.html#)  \n",
        "[How do I read and write tabular data?](https://pandas.pydata.org/docs/getting_started/intro_tutorials/02_read_write.html)\n",
        "\n",
        "Use panda functions to display the following:\n",
        "1.  A technical summary of the data (info())\n",
        "2.  A description of the numerical data (describe())\n",
        "3.  Display the Series 'Age'\n",
        "\n",
        "**Test output**:   \n",
        "1.  The info should show that there are only 204 values in the Cabin series, out of 891 records.  \n",
        "2.  The description should show 7 columns and a mean age of 29.699118\n",
        "3.  The Age series should have values of type float64 and Length 891"
      ]
    },
    {
      "cell_type": "code",
      "metadata": {
        "id": "puw-h7O0RJlk",
        "colab": {
          "base_uri": "https://localhost:8080/"
        },
        "outputId": "1861f03d-be37-47a2-9220-7545b8eea3f6"
      },
      "source": [
        "import pandas as pd\n",
        "titanic = pd.read_csv(\"https://raw.githubusercontent.com/pandas-dev/pandas/master/doc/data/titanic.csv\")\n",
        "#titanic.value_counts([\"Cabin\"])\n",
        "#titanic.describe()\n",
        "#titanic.info()\n",
        "#type(titanic[\"Age\"])\n",
        "titanic[\"Age\"]"
      ],
      "execution_count": 23,
      "outputs": [
        {
          "output_type": "execute_result",
          "data": {
            "text/plain": [
              "0      22.0\n",
              "1      38.0\n",
              "2      26.0\n",
              "3      35.0\n",
              "4      35.0\n",
              "       ... \n",
              "886    27.0\n",
              "887    19.0\n",
              "888     NaN\n",
              "889    26.0\n",
              "890    32.0\n",
              "Name: Age, Length: 891, dtype: float64"
            ]
          },
          "metadata": {
            "tags": []
          },
          "execution_count": 23
        }
      ]
    },
    {
      "cell_type": "markdown",
      "metadata": {
        "id": "g3EzF12i0m1a"
      },
      "source": [
        "### Exercise 3 - aggregating statistics\n",
        "---\n",
        "\n",
        "Read through the tutorial:  \n",
        "[How to calculate summary statistics?](https://pandas.pydata.org/docs/getting_started/intro_tutorials/06_calculate_statistics.html#)  \n",
        "\n",
        "Use panda functions to display the following summary statistics from the titanic dataset:  \n",
        "\n",
        "1.  The average (mean) age of passengers  \n",
        "2.  The median age and fare  \n",
        "3.  The mean fare\n",
        "4.  The modal fare and gender\n",
        "\n",
        "**Test output**:   \n",
        "29.699118, Age 28.0000 Fare 14.4542, 32.2042079685746, Fare 8.05 Sex male \n"
      ]
    },
    {
      "cell_type": "code",
      "metadata": {
        "id": "D7jFHvO42UL5",
        "colab": {
          "base_uri": "https://localhost:8080/"
        },
        "outputId": "06f2f353-da00-4b02-a113-b5cfbd361988"
      },
      "source": [
        "#titanic[\"Age\"].mean()\n",
        "#titanic[[\"Age\", \"Fare\"]].median()\n",
        "#titanic[\"Fare\"].mean()\n",
        "titanic[[\"Fare\",\"Sex\"]].mode"
      ],
      "execution_count": null,
      "outputs": [
        {
          "output_type": "execute_result",
          "data": {
            "text/plain": [
              "<bound method DataFrame.mode of         Fare     Sex\n",
              "0     7.2500    male\n",
              "1    71.2833  female\n",
              "2     7.9250  female\n",
              "3    53.1000  female\n",
              "4     8.0500    male\n",
              "..       ...     ...\n",
              "886  13.0000    male\n",
              "887  30.0000  female\n",
              "888  23.4500  female\n",
              "889  30.0000    male\n",
              "890   7.7500    male\n",
              "\n",
              "[891 rows x 2 columns]>"
            ]
          },
          "metadata": {
            "tags": []
          },
          "execution_count": 88
        }
      ]
    },
    {
      "cell_type": "markdown",
      "metadata": {
        "id": "moYrHf2s2UrP"
      },
      "source": [
        "### Exercise 4 - displaying other statistics\n",
        "---\n",
        "\n",
        "Take a look at the list of methods available for giving summary statistics [here](https://pandas.pydata.org/docs/user_guide/basics.html#basics-stats) \n",
        "\n",
        "Use panda functions, and your existing knowledge, to display the following summary statistics from the titanic dataset:\n",
        "\n",
        "1.  The total number of passengers on the titanic\n",
        "2.  The age of the youngest passenger\n",
        "3.  The most expensive ticket price\n",
        "4.  The range of ticket prices\n",
        "5.  The number of passenges with cabins\n",
        "6.  The code for the port where the highest number of passengers embarked\n",
        "7.  The most populous gender\n",
        "8.  The standard deviation for age and fare\n",
        "\n",
        "**Tests**:  \n",
        "891, 0.42, 512.3292, 512.3292, 204, S, male, Age 14.526497 Fare 49.693429"
      ]
    },
    {
      "cell_type": "code",
      "metadata": {
        "id": "AqDs2Xfw3upQ",
        "colab": {
          "base_uri": "https://localhost:8080/"
        },
        "outputId": "314c0b89-72ec-4a41-b033-163e00cc3078"
      },
      "source": [
        "# The total number of passengers on the titanic\n",
        "# The age of the youngest passenger\n",
        "# The most expensive ticket price\n",
        "# The range of ticket prices\n",
        "# The number of passenges with cabins\n",
        "# The code for the port where the highest number of passengers embarked\n",
        "# The most populous gender\n",
        "# The standard deviation for age and fare\n",
        "\n",
        "\n",
        "import pandas as pd\n",
        "df = pd.read_csv(\"https://raw.githubusercontent.com/pandas-dev/pandas/master/doc/data/titanic.csv\")\n",
        "#df.head(10)\n",
        "# df [\"Name\"].unique()\n",
        "# count_names = df[\"Name\"].unique()\n",
        "# len(count_names)\n",
        "# df [\"Age\"].min()\n",
        "# df [\"Fare\"].max()\n",
        "# df[\"Fare\"].max() - df[\"Fare\"].min()\n",
        "# fare_range\n",
        "# df[\"Cabin\"].count()\n",
        "df[\"Embarked\"].value_counts().max()\n",
        "# df[\"Sex\"].mode()\n",
        "# df[\"Age\"].std()\n",
        "#df[\"Fare\"].std()\n"
      ],
      "execution_count": 87,
      "outputs": [
        {
          "output_type": "execute_result",
          "data": {
            "text/plain": [
              "644"
            ]
          },
          "metadata": {
            "tags": []
          },
          "execution_count": 87
        }
      ]
    },
    {
      "cell_type": "markdown",
      "metadata": {
        "id": "Q6s13LaY4_QC"
      },
      "source": [
        "### Exercise 5 - aggregating statistics grouped by category\n",
        "---\n",
        "\n",
        "Refer again to the tutorial  \n",
        "[How to calculate summary statistics?](https://pandas.pydata.org/docs/getting_started/intro_tutorials/06_calculate_statistics.html#)   \n",
        "looking particularly at the section on Aggregating statistics grouped by category.\n",
        "\n",
        "1.  What is the mean age for male versus female Titanic passengers?\n",
        "2.  What is the mean ticket fare price for each of the sex and cabin class combinations?\n",
        "3.  What is the mean ticket fare price for passengers who embarked at each port?\n",
        "4.  Which passenger class had the highest number of survivors (for now, just show the statistics - it may not be meaningful yet)?\n",
        "\n",
        "**Test output**:  \n",
        "1.  female 27.915709 male 30.726645\n",
        "2.  \n",
        "```\n",
        "female  1         106.125798\n",
        "            2          21.970121\n",
        "            3          16.118810\n",
        "male    1          67.226127\n",
        "            2          19.741782\n",
        "            3          12.661633\n",
        "```\n",
        "3.  \n",
        "```\n",
        "C    59.954144\n",
        "Q    13.276030\n",
        "S    27.079812\n",
        "```\n",
        "4. \n",
        "\n",
        "```\n",
        "Survived  Pclass\n",
        "\n",
        "0         1          80\n",
        "          2          97\n",
        "          3         372\n",
        "1         1         136\n",
        "          2          87\n",
        "          3         119\n",
        "```\n",
        "\n",
        "\n",
        "\n",
        "\n"
      ]
    },
    {
      "cell_type": "code",
      "metadata": {
        "id": "hH4-UZxH_omw",
        "colab": {
          "base_uri": "https://localhost:8080/"
        },
        "outputId": "18d57fb0-6253-4931-925b-206ceac6b6e0"
      },
      "source": [
        "      # What is the mean age for male versus female Titanic passengers? matched\n",
        "      # What is the mean ticket fare price for each of the sex and cabin class combinations? matched\n",
        "      # What is the mean ticket fare price for passengers who embarked at each port? matched\n",
        "      # Which passenger class had the highest number of survivors (for now, just show the statistics - it may not be meaningful yet)? matched\n",
        "\n",
        "\n",
        "import pandas as pd\n",
        "titanic = pd.read_csv(\"https://raw.githubusercontent.com/pandas-dev/pandas/master/doc/data/titanic.csv\")\n",
        "#titanic[[\"Age\", \"Sex\"]].groupby(\"Sex\").mean()\n",
        "#titanic.groupby([\"Sex\",\"Pclass\"])[\"Fare\"].mean()\n",
        "#titanic.groupby([\"Embarked\"])[\"Fare\"].mean()\n",
        "titanic.groupby([\"Survived\", \"Pclass\"]) [\"Pclass\"].value_counts()\n",
        "#titanic.head()"
      ],
      "execution_count": 133,
      "outputs": [
        {
          "output_type": "execute_result",
          "data": {
            "text/plain": [
              "Survived  Pclass  Pclass\n",
              "0         1       1          80\n",
              "          2       2          97\n",
              "          3       3         372\n",
              "1         1       1         136\n",
              "          2       2          87\n",
              "          3       3         119\n",
              "Name: Pclass, dtype: int64"
            ]
          },
          "metadata": {
            "tags": []
          },
          "execution_count": 133
        }
      ]
    },
    {
      "cell_type": "markdown",
      "metadata": {
        "id": "uG42G7oPCaVT"
      },
      "source": [
        "### Exercise 6 - an aggregation of different statistics\n",
        "---\n",
        "\n",
        "Use the function titanic.agg() as shown in the tutorial  \n",
        "[How to calculate summary statistics?](https://pandas.pydata.org/docs/getting_started/intro_tutorials/06_calculate_statistics.html#)  \n",
        "\n",
        "1.  Display\n",
        "\n",
        "```\n",
        "     {\n",
        "         \"Age\": [\"min\", \"max\", \"median\", \"skew\"],\n",
        "         \"Fare\": [\"min\", \"max\", \"median\", \"mean\"]\n",
        "     }\n",
        "```\n",
        "2.  Display:  \n",
        "min, max and mean for Age  \n",
        "min, max and standard deviation for Fare  \n",
        "count for Cabin\n",
        "\n",
        "**Test output**:   \n",
        "1.  \t\n",
        "```\n",
        "                  Age\t      Fare  \n",
        "max\t   80.000000\t512.329200  \n",
        "mean\t  NaN\t      32.204208  \n",
        "median\t28.000000\t14.454200  \n",
        "min\t   0.420000\t 0.000000  \n",
        "skew\t  0.389108\t NaN\n",
        "```\n",
        "\n",
        "2.   \n",
        "```\n",
        "\t        Age\t    Fare\t   Cabin\n",
        "count  NaN\t    NaN\t    204.0\n",
        "max\t80.000000  512.329200 NaN\n",
        "mean   29.699118  NaN        NaN\n",
        "min\t0.420000   0.000000   NaN\n",
        "std\tNaN        49.693429  NaN\n",
        "```\n",
        "\n",
        "\n"
      ]
    },
    {
      "cell_type": "code",
      "metadata": {
        "id": "2hqgzlZgZnzx",
        "colab": {
          "base_uri": "https://localhost:8080/",
          "height": 197
        },
        "outputId": "fd0eedfe-2e66-4edc-96d7-e6cec8b104af"
      },
      "source": [
        "import pandas as pd\n",
        "titanic = pd.read_csv(\"https://raw.githubusercontent.com/pandas-dev/pandas/master/doc/data/titanic.csv\")\n",
        "#display(titanic.agg({\"Age\": [\"min\", \"max\", \"median\", \"skew\"],\"Fare\": [\"min\", \"max\", \"median\", \"mean\"]}))\n",
        "#display(titanic.agg({\"Age\":[\"min\", \"max\", \"mean\"], \"Fare\":[\"min\", \"max\", \"std\"],\"Cabin\" : \"count\"}))  \n",
        "titanic.groupby[[\"Age\", \"Fare\"]](\"Sex\").count()   "
      ],
      "execution_count": 130,
      "outputs": [
        {
          "output_type": "error",
          "ename": "TypeError",
          "evalue": "ignored",
          "traceback": [
            "\u001b[0;31m---------------------------------------------------------------------------\u001b[0m",
            "\u001b[0;31mTypeError\u001b[0m                                 Traceback (most recent call last)",
            "\u001b[0;32m<ipython-input-130-8d98dd3a0258>\u001b[0m in \u001b[0;36m<module>\u001b[0;34m()\u001b[0m\n\u001b[1;32m      3\u001b[0m \u001b[0;31m#display(titanic.agg({\"Age\": [\"min\", \"max\", \"median\", \"skew\"],\"Fare\": [\"min\", \"max\", \"median\", \"mean\"]}))\u001b[0m\u001b[0;34m\u001b[0m\u001b[0;34m\u001b[0m\u001b[0;34m\u001b[0m\u001b[0m\n\u001b[1;32m      4\u001b[0m \u001b[0;31m#display(titanic.agg({\"Age\":[\"min\", \"max\", \"mean\"], \"Fare\":[\"min\", \"max\", \"std\"],\"Cabin\" : \"count\"}))\u001b[0m\u001b[0;34m\u001b[0m\u001b[0;34m\u001b[0m\u001b[0;34m\u001b[0m\u001b[0m\n\u001b[0;32m----> 5\u001b[0;31m \u001b[0mtitanic\u001b[0m\u001b[0;34m.\u001b[0m\u001b[0mgroupby\u001b[0m\u001b[0;34m[\u001b[0m\u001b[0;34m[\u001b[0m\u001b[0;34m\"Age\"\u001b[0m\u001b[0;34m,\u001b[0m \u001b[0;34m\"Fare\"\u001b[0m\u001b[0;34m]\u001b[0m\u001b[0;34m]\u001b[0m\u001b[0;34m(\u001b[0m\u001b[0;34m\"Sex\"\u001b[0m\u001b[0;34m)\u001b[0m\u001b[0;34m.\u001b[0m\u001b[0mcount\u001b[0m\u001b[0;34m(\u001b[0m\u001b[0;34m)\u001b[0m\u001b[0;34m\u001b[0m\u001b[0;34m\u001b[0m\u001b[0m\n\u001b[0m",
            "\u001b[0;31mTypeError\u001b[0m: 'method' object is not subscriptable"
          ]
        }
      ]
    },
    {
      "cell_type": "markdown",
      "metadata": {
        "id": "cucQCpY1SwUj"
      },
      "source": [
        "### Exercise 7 - count by category\n",
        "---\n",
        "\n",
        "Read the section Count number of records by category in the tutorial  \n",
        "[How to calculate summary statistics?](https://pandas.pydata.org/docs/getting_started/intro_tutorials/06_calculate_statistics.html#)\n",
        "\n",
        "1. Display the number of passengers of each gender who had a ticket\n",
        "2. Display the number of passengers who embarked at each port and had a ticket\n",
        "3. Calculate the percentage of PassengerIds who survived the sinking of the Titanic (*Hint:  try getting the PassengerIds with a count for survived or not.  Store this value in a new variable, which will contain a list/array.  The second item in this list will be the number who survived.  You can use this number and the count of PassengerIds to calculate the percentage*)\n",
        "\n",
        "**Test output**:  \n",
        "1.  female 314, male 577\n",
        "2.  C 168, Q 77, S 644\n",
        "3.  38.38383838383838\n",
        "\n"
      ]
    },
    {
      "cell_type": "code",
      "metadata": {
        "id": "NkZHxv_nTj-o",
        "colab": {
          "base_uri": "https://localhost:8080/",
          "height": 80
        },
        "outputId": "8ca8d407-7b09-4aec-886c-f9b884510e28"
      },
      "source": [
        "import pandas as pd\n",
        "titanic = pd.read_csv(\"https://raw.githubusercontent.com/pandas-dev/pandas/master/doc/data/titanic.csv\")\n",
        "display(titanic.agg({\"Sex\":[\"count\"], \"Ticket\":[\"count\"]}))\n",
        "#display(titanic.agg({\"Age\": [\"min\", \"max\", \"median\", \"skew\"],\"Fare\": [\"min\", \"max\", \"median\", \"mean\"]}))"
      ],
      "execution_count": 127,
      "outputs": [
        {
          "output_type": "display_data",
          "data": {
            "text/html": [
              "<div>\n",
              "<style scoped>\n",
              "    .dataframe tbody tr th:only-of-type {\n",
              "        vertical-align: middle;\n",
              "    }\n",
              "\n",
              "    .dataframe tbody tr th {\n",
              "        vertical-align: top;\n",
              "    }\n",
              "\n",
              "    .dataframe thead th {\n",
              "        text-align: right;\n",
              "    }\n",
              "</style>\n",
              "<table border=\"1\" class=\"dataframe\">\n",
              "  <thead>\n",
              "    <tr style=\"text-align: right;\">\n",
              "      <th></th>\n",
              "      <th>Sex</th>\n",
              "      <th>Ticket</th>\n",
              "    </tr>\n",
              "  </thead>\n",
              "  <tbody>\n",
              "    <tr>\n",
              "      <th>count</th>\n",
              "      <td>891</td>\n",
              "      <td>891</td>\n",
              "    </tr>\n",
              "  </tbody>\n",
              "</table>\n",
              "</div>"
            ],
            "text/plain": [
              "       Sex  Ticket\n",
              "count  891     891"
            ]
          },
          "metadata": {
            "tags": []
          }
        }
      ]
    },
    {
      "cell_type": "markdown",
      "metadata": {
        "id": "Y2aTzdTlLjlI"
      },
      "source": [
        "### Exercise 8 - summary happiness statistics\n",
        "---\n",
        "\n",
        "Open the data set here: https://github.com/futureCodersSE/working-with-data/blob/main/Happiness-Data/2019.xlsx?raw=true\n",
        "\n",
        "It contains data on people's perception of happiness levels in a number of countries across the world.\n",
        "\n",
        "1.  Display the number of records in the set  \n",
        "2.  Display the description of the numerical data  \n",
        "3.  Display the highest GDP and life expectancy  \n",
        "4.  Display the mean, max and min for Freedom,  mean, max, min and skew for Generosity and mean, min, max and std for GDP  \n",
        "\n",
        "**Test output**:  \n",
        "1.  156\n",
        "2.  Table showing count, mean, std, min, 25%, 50%, 75%, max for 8 columns\n",
        "3.  GDP 0.905147, life expectancy 0.725244  \n",
        "4.  \n",
        "\n",
        "\n",
        "```\n",
        "\t   Freedom to make life choices\tGenerosity\tGDP per capita\n",
        "max\t 0.631000\t                   0.566000\t  1.684000\n",
        "mean\t0.392571\t                   0.184846\t  0.905147\n",
        "min\t 0.000000\t                   0.000000  \t0.000000\n",
        "skew\tNaN\t                        0.745942\t  NaN\n",
        "std\t NaN\t                        NaN\t       0.398389\n",
        "```\n",
        "\n",
        "\n"
      ]
    },
    {
      "cell_type": "code",
      "metadata": {
        "id": "ISwIDuuAL6qo"
      },
      "source": [
        ""
      ],
      "execution_count": null,
      "outputs": []
    },
    {
      "cell_type": "markdown",
      "metadata": {
        "id": "X3vlyA6zRdXs"
      },
      "source": [
        "### Exercise 9 - migration data\n",
        "---\n",
        "\n",
        "Open the dataset at this url: https://github.com/futureCodersSE/working-with-data/blob/main/Data%20sets/public_use-talent-migration.xlsx?raw=true  Open the sheet named *Country Migration*\n",
        "\n",
        "1.  Describe the dataset  \n",
        "2.  Show summary information\n",
        "3.  Display the mean net per 10K migration in each of the years 2015 to 2019\n",
        "4.  Display the mean, max and min migration for the year 2019 for each of the regions (*base_country_wb_region*)\n",
        "5.  Display the median net migration for the years 2015 and 2019 for the base countries by income level\n",
        "6.  Display the number of target countries in each income level\n",
        "7.  Display the mean net migration for all five years, for each income level\n",
        "\n",
        "**Test output**:  \n",
        "1  count, mean, std, min, 25%, 50%, 75%, max for 9 columns\n",
        "\n",
        "2  shows 16 columns with non-null count of 4148 in each column\n",
        "\n",
        "3  \n",
        "```\n",
        "net_per_10K_2015    0.461757\n",
        "net_per_10K_2016    0.150248\n",
        "net_per_10K_2017   -0.080272\n",
        "net_per_10K_2018   -0.040591\n",
        "net_per_10K_2019   -0.022743\n",
        "dtype: float64\n",
        "```\n",
        "\n",
        "4  \n",
        "```\n",
        "\tnet_per_10K_2019\n",
        "mean\tmax\tmin\n",
        "base_country_wb_region\t\t\t\n",
        "East Asia & Pacific\t0.198827\t21.57\t-9.88\n",
        "Europe & Central Asia\t0.208974\t87.71\t-21.34\n",
        "Latin America & Caribbean\t-0.904602\t21.15\t-31.75\n",
        "Middle East & North Africa\t-0.107655\t55.60\t-50.33\n",
        "North America\t0.239246\t23.20\t-0.29\n",
        "South Asia\t-0.514577\t13.72\t-24.89\n",
        "Sub-Saharan Africa\t-0.279729\t37.11\t-21.54\n",
        "```\n",
        "\n",
        "5  \n",
        "```\n",
        "\tnet_per_10K_2015\tnet_per_10K_2019\n",
        "base_country_wb_income\t\t\n",
        "High Income\t0.02\t0.04\n",
        "Low Income\t0.42\t-0.05\n",
        "Lower Middle Income\t-0.02\t-0.07\n",
        "Upper Middle Income\t-0.03\t-0.08\n",
        "```\n",
        "\n",
        "6  \n",
        "```\n",
        "base_country_wb_income\n",
        "High Income            2415\n",
        "Low Income              185\n",
        "Lower Middle Income     653\n",
        "Upper Middle Income     895\n",
        "Name: target_country_name, dtype: int64 \n",
        "```\n",
        "\n",
        "7  \n",
        "```\n",
        "net_per_10K_2015\tnet_per_10K_2016\tnet_per_10K_2017\tnet_per_10K_2018\tnet_per_10K_2019\n",
        "base_country_wb_income\t\t\t\t\t\n",
        "High Income\t0.505482\t0.391379\t0.314178\t0.379201\t0.401470\n",
        "Low Income\t1.876432\t0.798270\t-0.684865\t-0.677784\t-0.681459\n",
        "Lower Middle Income\t0.591654\t-0.029893\t-0.519433\t-0.527136\t-0.476616\n",
        "Upper Middle Income\t-0.043419\t-0.502916\t-0.699240\t-0.686626\t-0.700101\n",
        "```\n",
        "\n",
        "\n",
        "\n",
        "\n"
      ]
    },
    {
      "cell_type": "code",
      "metadata": {
        "id": "yk8cfjUvIj5x"
      },
      "source": [
        ""
      ],
      "execution_count": null,
      "outputs": []
    },
    {
      "cell_type": "markdown",
      "metadata": {
        "id": "UqBCMK6dIkS-"
      },
      "source": [
        "### Exercise 10 - calculating range over a grouped series\n",
        "\n",
        "Open the dataset at this url: https://github.com/futureCodersSE/working-with-data/blob/main/Data%20sets/public_use-talent-migration.xlsx?raw=true Open the sheet named *Skill Migration*\n",
        "\n",
        "1.  Display the max for each skill group category of net migration for the year 2017\n",
        "2.  Assign the max for each skill group category of net migration for the year 2017 to a variable called **max_skill_migration** and print `max_skill_migration`\n",
        "3.  Create a second variable called **min_skill_migration** and assign to it the min for each skill group category of net migration for the year 2017, print `min_skill_migration`\n",
        "\n",
        "4.  You now have two series `max_skill_migration` and `min_skill_migration` each of which is a numpy array.  You can perfom calculations on these two series in the same way as you would individual data items.\n",
        "\n",
        "So, you can calculate the range for each skill category by subtracting the `min_skill_migration` from `max_skill_migration` to get a new series **skill_migration_range**\n",
        "\n",
        "skill_migration_range = max_skill_migration - min_skill_migration\n",
        "\n",
        "Try it out.\n",
        "\n",
        "5.  Now calculate the range for the year 2019\n",
        "6.  Now calculate the range for countries grouped by base country income level for the year 2015\n",
        "\n",
        "Test output:  \n",
        "1 and 2  \n",
        "```\n",
        "skill_group_category\n",
        "Business Skills                1048.20\n",
        "Disruptive Tech Skills         1478.56\n",
        "Soft Skills                    1572.35\n",
        "Specialized Industry Skills    1906.14\n",
        "Tech Skills                    1336.78\n",
        "Name: net_per_10K_2017, dtype: float64\n",
        "```\n",
        "\n",
        "3    \n",
        "```\n",
        "skill_group_category\n",
        "Business Skills               -3471.35\n",
        "Disruptive Tech Skills        -2646.19\n",
        "Soft Skills                   -2542.23\n",
        "Specialized Industry Skills   -6604.67\n",
        "Tech Skills                   -6060.98\n",
        "Name: net_per_10K_2017, dtype: float64\n",
        "```\n",
        "\n",
        "4  \n",
        "```\n",
        "skill_group_category\n",
        "Business Skills                4519.55\n",
        "Disruptive Tech Skills         4124.75\n",
        "Soft Skills                    4114.58\n",
        "Specialized Industry Skills    8510.81\n",
        "Tech Skills                    7397.76\n",
        "Name: net_per_10K_2017, dtype: float64\n",
        "```\n",
        "\n",
        "5  \n",
        "```\n",
        "skill_group_category\n",
        "Business Skills                4543.96\n",
        "Disruptive Tech Skills         3651.81\n",
        "Soft Skills                    5528.47\n",
        "Specialized Industry Skills    4036.44\n",
        "Tech Skills                    3424.45\n",
        "Name: net_per_10K_2019, dtype: float64\n",
        "```\n",
        "\n",
        "6  \n",
        "```\n",
        "wb_income\n",
        "High income            4246.50\n",
        "Low income             4556.42\n",
        "Lower middle income    2148.36\n",
        "Upper middle income    4045.43\n",
        "Name: net_per_10K_2015, dtype: float64\n",
        "```\n",
        "\n",
        "\n",
        "\n"
      ]
    },
    {
      "cell_type": "code",
      "metadata": {
        "id": "1_2brpLnKIBt"
      },
      "source": [
        ""
      ],
      "execution_count": null,
      "outputs": []
    }
  ]
}