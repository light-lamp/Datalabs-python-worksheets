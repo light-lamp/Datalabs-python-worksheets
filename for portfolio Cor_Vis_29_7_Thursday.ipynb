{
  "nbformat": 4,
  "nbformat_minor": 0,
  "metadata": {
    "colab": {
      "name": " Cor_Vis_29_7_Thursday",
      "provenance": [],
      "collapsed_sections": [],
      "include_colab_link": true
    },
    "kernelspec": {
      "name": "python3",
      "display_name": "Python 3"
    },
    "language_info": {
      "name": "python"
    }
  },
  "cells": [
    {
      "cell_type": "markdown",
      "metadata": {
        "id": "view-in-github",
        "colab_type": "text"
      },
      "source": [
        "<a href=\"https://colab.research.google.com/github/light-lamp/Datalabs-python-worksheets/blob/main/for%20portfolio%20Cor_Vis_29_7_Thursday.ipynb\" target=\"_parent\"><img src=\"https://colab.research.google.com/assets/colab-badge.svg\" alt=\"Open In Colab\"/></a>"
      ]
    },
    {
      "cell_type": "markdown",
      "metadata": {
        "id": "rM0pH87Y4dOV"
      },
      "source": [
        "# Describing the data relatively and visually\n",
        "---\n",
        "\n",
        "This worksheet introduces two new libraries:\n",
        "\n",
        "**matplotlib**\n",
        "\n",
        "A library of functions for plotting static, animated and interactive visualisations of data sets.  For ease, pandas use matplotlib for plotting a range of charts.\n",
        "\n",
        "**scipy**\n",
        "\n",
        "A library of functions for interpolating, optimising, linear regression, etc  \n",
        "\n",
        "---\n",
        "\n",
        "A dataset will be read into a dataframe, cleaned, wrangled and so prepared for summarising and the telling of stories through visualisations and summaries.\n",
        "\n",
        "So far we have covered statistical measures over an individual series.  Linear regression reports correlation between the values in two series.\n",
        "\n",
        "To get the results of a linear regression:  \n",
        "*  import the `linregress` function from the `scipy.stats` package \n",
        "*  run the `linregress` function with the two axes assigning the result to a variable (e.g. `regression`) \n",
        "\n",
        "The result of the linregress function is a set of variables:  \n",
        "*  `slope`, `intercept` - the gradient and y-intercept of the regression line (the line of best fit between the two series) are in `regression.slope` and `regression.intercept`\n",
        "*  `rvalue` - the correlation coefficient - this indicates how closely the line drawn from the linear regression data fits the actual data, the closer to 1 the better the fit\n",
        "*  `pvalue` - the probability of error if the regression line is extended to predict\n",
        "*  the standard error is in `regression.stderr` and is the average distance of each data point from the lineof best fit \n",
        "\n",
        "\n",
        "Further information [here](https://docs.scipy.org/doc/scipy/reference/generated/scipy.stats.linregress.html)\n"
      ]
    },
    {
      "cell_type": "markdown",
      "metadata": {
        "id": "A60PQ510HHMQ"
      },
      "source": [
        "### Exercise 1 - is age closely related to income?\n",
        "---\n",
        "\n",
        "Use linear regression to compare the columns 'Age' and 'Income' in the data set 'Income-Data' at this url:  \n",
        "https://github.com/futureCodersSE/working-with-data/blob/main/Data%20sets/Income-Data.xlsx?raw=true  \n",
        "\n",
        "To do this:\n",
        "*  import the pandas library  \n",
        "\n",
        "\n",
        "*  import the **linregress** function from the library **scipy.stats**  (`from scipy.stats import linregress`)  \n",
        "\n",
        "\n",
        "*  open the Excel file at the url above, using the sheet_name '`county-level`', reading the data into a dataframe called **county_level_df**  \n",
        "\n",
        "\n",
        "*  create a variable called **x** and assign the '`Age`' column of the `county_level_df` dataframe   \n",
        "\n",
        "\n",
        "*  create a variable called **y** and assign the '`Income`' column of the `county_level_df` dataframe   \n",
        "\n",
        "\n",
        "*  create a variable called **regression** and assign the result of running the linregress function with `x`, `y` as its parameters ( `linregress(x,y)` )   \n",
        "\n",
        "\n",
        "*  display the regression  \n",
        "(*Expected output:  LinregressResult(slope=-0.31433084434233205, intercept=72.78388856978748, rvalue=-0.14787411576068246, pvalue=0.5581637648902298, stderr=0.5255739814332189*)  \n",
        "\n",
        "\n",
        "*  display the slope (`regression.slope`)  \n",
        "(*Expected output: -0.31433084434233205 - this indicates that the line plotting Age against Income slopes downward implying that income reduces with age*)  \n",
        "\n",
        "\n",
        "*  display the intercept (`regression.intercept`)  \n",
        "(*Expected output: 72.78388856978748 - this indicates that income level starts at 72.78388856978748 and reduces from there by age*)    \n",
        "\n",
        "\n",
        "*  display the rvalue (which indicates how closely income follows age and whether it goes up as age goes up or goes down as age goes up "
      ]
    },
    {
      "cell_type": "code",
      "metadata": {
        "id": "B7-yqi8n4Z3s",
        "colab": {
          "base_uri": "https://localhost:8080/"
        },
        "outputId": "790fe426-f118-467d-d42d-35fbdd5aaf87"
      },
      "source": [
        "import pandas as pd\n",
        "from scipy.stats import linregress\n",
        "#url = https://github.com/futureCodersSE/working-with-data/blob/main/Data%20sets/Income-Data.xlsx?raw=true\n",
        "county_level_df = pd.read_excel( \"https://github.com/futureCodersSE/working-with-data/blob/main/Data%20sets/Income-Data.xlsx?raw=true\", sheet_name='county-level')\n",
        "#county_level_df.head(20)\n",
        "\n",
        "x = county_level_df['Age']\n",
        "y = county_level_df['Income']\n",
        "regression = linregress(x,y)\n",
        "regression\n",
        "#regression.intercept\n",
        "#regression.slope\n",
        "\n"
      ],
      "execution_count": null,
      "outputs": [
        {
          "output_type": "execute_result",
          "data": {
            "text/plain": [
              "LinregressResult(slope=-0.31433084434233205, intercept=72.78388856978748, rvalue=-0.14787411576068246, pvalue=0.5581637648902298, stderr=0.5255739814332189)"
            ]
          },
          "metadata": {
            "tags": []
          },
          "execution_count": 29
        }
      ]
    },
    {
      "cell_type": "markdown",
      "metadata": {
        "id": "AXiD7hVyQEe9"
      },
      "source": [
        "### Exercise 2 - Could Population predict Income?  \n",
        "---\n",
        "\n",
        "Repeat the steps in exercise 1 to see if there is a clearer correlation between Population and Income.  \n",
        "\n",
        "Add a statement in the text cell to describe your findings.\n",
        "\n",
        "**Test output**:   \n",
        "0.013558605755058871\n"
      ]
    },
    {
      "cell_type": "markdown",
      "metadata": {
        "id": "uYu2jGaxQAbM"
      },
      "source": [
        "The code is correct but the output eg is wrong"
      ]
    },
    {
      "cell_type": "code",
      "metadata": {
        "id": "S349ZIiIQSvy",
        "colab": {
          "base_uri": "https://localhost:8080/"
        },
        "outputId": "c7058d38-9cd7-4842-98a9-0648e57ca795"
      },
      "source": [
        "x = county_level_df['Population']\n",
        "y = county_level_df['Income']\n",
        "regression = linregress(x,y)\n",
        "regression\n",
        "\n"
      ],
      "execution_count": null,
      "outputs": [
        {
          "output_type": "execute_result",
          "data": {
            "text/plain": [
              "LinregressResult(slope=0.05737132629483762, intercept=60.95698211316883, rvalue=0.11644142628402862, pvalue=0.6454275157910035, stderr=0.12233846479490115)"
            ]
          },
          "metadata": {
            "tags": []
          },
          "execution_count": 6
        }
      ]
    },
    {
      "cell_type": "markdown",
      "metadata": {
        "id": "KHLucNuAXiyJ"
      },
      "source": [
        ""
      ]
    },
    {
      "cell_type": "markdown",
      "metadata": {
        "id": "zZXvmsL2SbA-"
      },
      "source": [
        "### Exercise 3 - Does Stress predict Wellbeing?\n",
        "---\n",
        "\n",
        "Repeat the steps in Exercises 1 & 2 to see if you can find a statistically significant result.\n",
        "\n",
        "Add a statement in the text cell to describe your findings\n",
        "\n",
        "* Read the dataset: \"https://github.com/lilaceri/Working-with-data-/blob/b157a2feceb7709cf82426932385706d65446270/Data%20Sets%20for%20code%20divisio/Positive_Psychology_2017.csv?raw=true\"\n",
        "\n",
        "* perform linear regression  \n",
        "* look at r_squared and pvalue to get an idea of how predictive and significant these variables are\n",
        "\n",
        "* save slope and intercepts in variables for later \n",
        "\n",
        "Challenge:  \n",
        "Write a function that checks the significance of a regression and displays a message indicating the result.\n",
        "\n",
        "**Test output**:  \n",
        "LinregressResult(slope=-0.6279050248852254, intercept=37.713488379900454, rvalue=-0.6713959740851134, pvalue=6.084540561441803e-07, stderr=0.10694652962765022)  \n",
        "r sqr = 0.4507725540176983  \n",
        "model is significant, p < .05:  6.084540561441803e-07  "
      ]
    },
    {
      "cell_type": "code",
      "metadata": {
        "id": "K1JbNFrrTRF2"
      },
      "source": [
        "less than 0.05 P value is significant and r value x r value (squared) is about right"
      ],
      "execution_count": null,
      "outputs": []
    },
    {
      "cell_type": "markdown",
      "metadata": {
        "id": "lIQ0ZgXzS3qJ"
      },
      "source": [
        ""
      ]
    },
    {
      "cell_type": "markdown",
      "metadata": {
        "id": "HAf8U87JUluv"
      },
      "source": [
        "What I'm trying to predict = Y axis and "
      ]
    },
    {
      "cell_type": "code",
      "metadata": {
        "id": "pbZf_2dITkqX",
        "colab": {
          "base_uri": "https://localhost:8080/"
        },
        "outputId": "537d9ef5-b1ba-4217-a960-b2a8a5c34911"
      },
      "source": [
        "url = \"https://github.com/lilaceri/Working-with-data-/blob/b157a2feceb7709cf82426932385706d65446270/Data%20Sets%20for%20code%20divisio/Positive_Psychology_2017.csv?raw=true\"\n",
        "psych_data_df = pd.read_csv(url)\n",
        "#take the stress and the wellbeing columns\n",
        "x = psych_data_df['Stress']\n",
        "y = psych_data_df['Wellbeing']\n",
        "#How correlated are stress and wellbeing? produces values\n",
        "regression = linregress(x,y)\n",
        "regression\n",
        "# regression.slope\n",
        "#regression.intercept\n",
        "#pvalue shows that there is a correlation. It is greater than 0.05\n"
      ],
      "execution_count": null,
      "outputs": [
        {
          "output_type": "execute_result",
          "data": {
            "text/plain": [
              "LinregressResult(slope=-0.6279050248852254, intercept=37.713488379900454, rvalue=-0.6713959740851134, pvalue=6.084540561441803e-07, stderr=0.10694652962765022)"
            ]
          },
          "metadata": {
            "tags": []
          },
          "execution_count": 3
        }
      ]
    },
    {
      "cell_type": "markdown",
      "metadata": {
        "id": "ovNHeS53QqEj"
      },
      "source": [
        "# Visualising the data\n",
        "---\n",
        "\n",
        "There are a good number of libraries available containing functions for visualising data with bar charts, pie charts, line plots, box plots, scatter plots and, in some libraries, with more image based visualisations.\n",
        "\n",
        "To keep it relatively simple, we will use matplotlib, a widely used library with a wide range of visualisation functions for data sets and mathematical equations.  It has the main functions we will use in this course:\n",
        "*  bar charts\n",
        "*  pie charts\n",
        "*  line plots\n",
        "*  box plots\n",
        "*  scatter plots\n",
        "*  histogram\n",
        "\n",
        "Each requires these things:  \n",
        "1. Select the data columns to be plotted \n",
        "2. Prepare the data (remove null values, clean formats, etc)  \n",
        "3. Run the function for the required plot\n",
        "\n",
        "Once you have the hang of these, you can start to look at labelling, colouring, etc.\n",
        "\n",
        "In order to begin creating visualisations, you need to:  \n",
        "* import **matplotlib** as **plt**\n",
        "\n",
        "Test output for Exercises 4 to 10 is in this [image](https://drive.google.com/file/d/1LYxLJyur_zgzvJcv_C1WGm21nf07ddY6/view?usp=sharing)"
      ]
    },
    {
      "cell_type": "markdown",
      "metadata": {
        "id": "lcPED_VXSY5U"
      },
      "source": [
        "#  Bar charts and Line Plots\n",
        "---\n",
        "\n",
        "For these exercises, use the Excel data file:\n",
        "\n",
        "'public-use-talent-migration' looking at sheet_name 'Country Migration'  \n",
        "https://github.com/futureCodersSE/working-with-data/blob/main/Data%20sets/public_use-talent-migration.xlsx?raw=true \n",
        "\n",
        "**Example**:  \n",
        "\n",
        "Watch the video [here](https://drive.google.com/file/d/1eNOy7fhkB2CSfVdb66kqB66qXfoPfOpd/view?usp=sharing) - demonstration of creating a bar chart using the `matplotlib` library `pyplot`.  Then have a go at creating it yourself."
      ]
    },
    {
      "cell_type": "markdown",
      "metadata": {
        "id": "RayJwDEgmBlp"
      },
      "source": [
        "Managed on my own. Video was very helpful"
      ]
    },
    {
      "cell_type": "code",
      "metadata": {
        "id": "4YZeIq9dQoVD",
        "colab": {
          "base_uri": "https://localhost:8080/",
          "height": 282
        },
        "outputId": "52afa8c0-48de-4c1f-b987-daeda2198495"
      },
      "source": [
        "import pandas as pd\n",
        "import matplotlib.pyplot as plt\n",
        "url =  \"https://github.com/futureCodersSE/working-with-data/blob/main/Data%20sets/public_use-talent-migration.xlsx?raw=true\" \n",
        "df = pd.read_excel(url,sheet_name = \"Country Migration\")\n",
        "#df\n",
        "regions = df.groupby([\"base_country_wb_region\"]).mean()\n",
        "#regions\n",
        "data = regions['net_per_10K_2015']\n",
        "#data\n",
        "labels = data.keys()\n",
        "#labels\n",
        "#plt.bar(labels,data)\n",
        "plt.barh(labels,data)\n",
        "#plt.show()"
      ],
      "execution_count": null,
      "outputs": [
        {
          "output_type": "execute_result",
          "data": {
            "text/plain": [
              "<BarContainer object of 7 artists>"
            ]
          },
          "metadata": {
            "tags": []
          },
          "execution_count": 12
        },
        {
          "output_type": "display_data",
          "data": {
            "image/png": "[encoded data removed]",
            "text/plain": [
              "<Figure size 432x288 with 1 Axes>"
            ]
          },
          "metadata": {
            "tags": [],
            "needs_background": "light"
          }
        }
      ]
    },
    {
      "cell_type": "markdown",
      "metadata": {
        "id": "CBIUWI1WyvLx"
      },
      "source": [
        "### Exercise 4 - Line plot of net migration \n",
        "--- \n",
        "\n",
        "Creating a line plot of mean net migration over the years 2015 to 2019\n",
        "\n",
        "* create a new dataframe containing only the five columns holding net migration\n",
        "* create a new data variable to hold the means of the five columns\n",
        "* create a labels variable to hold the keys (column headings) \n",
        "* use plt.plot(x, y) to plot your line chart\n",
        "\n",
        "***Presentation tips:***   \n",
        "Plot the chart, then add formatting, then show the plot   \n",
        "\n",
        "Rotate the x-axis labels in the plot:  \n",
        "`plt.xticks(rotation=45)`  \n",
        "\n",
        "Show the grid:  \n",
        "`plt.grid()`  \n",
        "\n",
        "When all formatting has been done, show the plot:   \n",
        "`plt.show()`"
      ]
    },
    {
      "cell_type": "code",
      "metadata": {
        "id": "rS8cAuoaEKLq",
        "colab": {
          "base_uri": "https://localhost:8080/",
          "height": 117
        },
        "outputId": "8669180a-d966-480e-eb22-2300dcbad74a"
      },
      "source": [
        "df = pd.read_excel(url,sheet_name = \"Country Migration\")\n",
        "df.head(1)"
      ],
      "execution_count": null,
      "outputs": [
        {
          "output_type": "execute_result",
          "data": {
            "text/html": [
              "<div>\n",
              "<style scoped>\n",
              "    .dataframe tbody tr th:only-of-type {\n",
              "        vertical-align: middle;\n",
              "    }\n",
              "\n",
              "    .dataframe tbody tr th {\n",
              "        vertical-align: top;\n",
              "    }\n",
              "\n",
              "    .dataframe thead th {\n",
              "        text-align: right;\n",
              "    }\n",
              "</style>\n",
              "<table border=\"1\" class=\"dataframe\">\n",
              "  <thead>\n",
              "    <tr style=\"text-align: right;\">\n",
              "      <th></th>\n",
              "      <th>base_country_code</th>\n",
              "      <th>base_country_name</th>\n",
              "      <th>base_lat</th>\n",
              "      <th>base_long</th>\n",
              "      <th>base_country_wb_income</th>\n",
              "      <th>base_country_wb_region</th>\n",
              "      <th>target_country_code</th>\n",
              "      <th>target_country_name</th>\n",
              "      <th>target_lat</th>\n",
              "      <th>target_long</th>\n",
              "      <th>target_country_wb_income</th>\n",
              "      <th>target_country_wb_region</th>\n",
              "      <th>net_per_10K_2015</th>\n",
              "      <th>net_per_10K_2016</th>\n",
              "      <th>net_per_10K_2017</th>\n",
              "      <th>net_per_10K_2018</th>\n",
              "      <th>net_per_10K_2019</th>\n",
              "    </tr>\n",
              "  </thead>\n",
              "  <tbody>\n",
              "    <tr>\n",
              "      <th>0</th>\n",
              "      <td>ae</td>\n",
              "      <td>United Arab Emirates</td>\n",
              "      <td>23.424076</td>\n",
              "      <td>53.847818</td>\n",
              "      <td>High Income</td>\n",
              "      <td>Middle East &amp; North Africa</td>\n",
              "      <td>af</td>\n",
              "      <td>Afghanistan</td>\n",
              "      <td>33.93911</td>\n",
              "      <td>67.709953</td>\n",
              "      <td>Low Income</td>\n",
              "      <td>South Asia</td>\n",
              "      <td>0.19</td>\n",
              "      <td>0.16</td>\n",
              "      <td>0.11</td>\n",
              "      <td>-0.05</td>\n",
              "      <td>-0.02</td>\n",
              "    </tr>\n",
              "  </tbody>\n",
              "</table>\n",
              "</div>"
            ],
            "text/plain": [
              "  base_country_code     base_country_name  ...  net_per_10K_2018  net_per_10K_2019\n",
              "0                ae  United Arab Emirates  ...             -0.05             -0.02\n",
              "\n",
              "[1 rows x 17 columns]"
            ]
          },
          "metadata": {
            "tags": []
          },
          "execution_count": 6
        }
      ]
    },
    {
      "cell_type": "markdown",
      "metadata": {
        "id": "SZZ4iR9-bs3j"
      },
      "source": [
        ""
      ]
    },
    {
      "cell_type": "markdown",
      "metadata": {
        "id": "bzX1SOSYb1_9"
      },
      "source": [
        "net_per_10K_2015\tnet_per_10K_2016\tnet_per_10K_2017\tnet_per_10K_2018\tnet_per_10K_2019\n"
      ]
    },
    {
      "cell_type": "code",
      "metadata": {
        "id": "o98oEJg8B8Hg"
      },
      "source": [
        ""
      ],
      "execution_count": null,
      "outputs": []
    },
    {
      "cell_type": "code",
      "metadata": {
        "id": "JLOAv52Kx1ZZ",
        "colab": {
          "base_uri": "https://localhost:8080/",
          "height": 358
        },
        "outputId": "974b108b-c449-4776-f0bc-7cdc4c53058d"
      },
      "source": [
        "#create a new dataframe containing only the five columns holding net migration\n",
        "#create a new data variable to hold the means of the five columns\n",
        "#create a labels variable to hold the keys (column headings)\n",
        "#use plt.plot(x, y) to plot your line chart\n",
        "\n",
        "# THEN \n",
        "#Plot the chart, \n",
        "#then add formatting, \n",
        "#then show the plot\n",
        "\n",
        "#Rotate the x-axis labels in the plot:\n",
        "#plt.xticks(rotation=45)\n",
        "#Show the grid:\n",
        "#plt.grid()\n",
        "#When all formatting has been done, show the plot:\n",
        "#plt.show()\n",
        "#USE ONLY 5 COLUMNS - net_per_10K_2015 net_per_10K_2016 net_per_10K_2017 net_per_10K_2018 net_per_10K_2019\n",
        "\n",
        "import pandas as pd\n",
        "import matplotlib.pyplot as plt\n",
        "from scipy.stats import linregress\n",
        "url =  \"https://github.com/futureCodersSE/working-with-data/blob/main/Data%20sets/public_use-talent-migration.xlsx?raw=true\" \n",
        "df = pd.read_excel(url,sheet_name = \"Country Migration\")\n",
        "new_df = df[['net_per_10K_2015','net_per_10K_2016', 'net_per_10K_2017','net_per_10K_2018','net_per_10K_2019']].mean()\n",
        "new_df\n",
        "\n",
        "labels = new_df.keys()\n",
        "y = new_df.values\n",
        "#values      \n",
        "x = labels\n",
        "##y = new_df.values()\n",
        "plt.plot(x, y)\n",
        "plt.xticks(rotation=45)\n",
        "plt.grid()\n",
        "plt.title(\"migration\")\n",
        "plt.ylabel(\"Average\")\n",
        "plt.xlabel(\"net per year\")\n",
        "plt.show()"
      ],
      "execution_count": 1,
      "outputs": [
        {
          "output_type": "display_data",
          "data": {
            "image/png": "[encoded data removed]",
            "text/plain": [
              "<Figure size 432x288 with 1 Axes>"
            ]
          },
          "metadata": {
            "tags": [],
            "needs_background": "light"
          }
        }
      ]
    },
    {
      "cell_type": "markdown",
      "metadata": {
        "id": "tCATnnTDVB0f"
      },
      "source": [
        "### Exercise 5 - Creating a Bar chart for yearly migration\n",
        "---\n",
        "Create a bar chart which shows the total net migration for the years 2015-2019  \n",
        " \n",
        "* split the migration columns into a new dataframe\n",
        "* create a data variable from the max() of the five columns\n",
        "* create a labels variable, this time just create a list of the 5 years ['2015','2016','2017','2018','2019']\n",
        "* plot the bar chart\n",
        "\n",
        "***Presentation tips***:\n",
        "* use plt.xlabel('Year') and plt.ylabel('Total net migration') to name your axis \n",
        "* display your bar graph with plt.show "
      ]
    },
    {
      "cell_type": "code",
      "metadata": {
        "id": "HFpx3cFOhbKo",
        "colab": {
          "base_uri": "https://localhost:8080/",
          "height": 313
        },
        "outputId": "1b4c4918-82a2-422c-a7b5-27df0e831f0e"
      },
      "source": [
        "df = pd.read_excel(url,sheet_name = \"Country Migration\")\n",
        "max_df = df[['net_per_10K_2015','net_per_10K_2016', 'net_per_10K_2017','net_per_10K_2018','net_per_10K_2019']].max()\n",
        "max_df\n",
        "labels = ['2015','2016','2017','2018','2019']\n",
        "labels\n",
        "plt.bar(labels,max_df)\n",
        "plt.xlabel('Year')\n",
        "plt.ylabel('Total net migration')\n",
        "plt.title(\"Migration 2019\")\n",
        "plt.show\n"
      ],
      "execution_count": 3,
      "outputs": [
        {
          "output_type": "execute_result",
          "data": {
            "text/plain": [
              "<function matplotlib.pyplot.show>"
            ]
          },
          "metadata": {
            "tags": []
          },
          "execution_count": 3
        },
        {
          "output_type": "display_data",
          "data": {
            "image/png": "[encoded data removed]",
            "text/plain": [
              "<Figure size 432x288 with 1 Axes>"
            ]
          },
          "metadata": {
            "tags": [],
            "needs_background": "light"
          }
        }
      ]
    },
    {
      "cell_type": "markdown",
      "metadata": {
        "id": "h7XzURfOzZfm"
      },
      "source": [
        "### Exercise 6 - creating a bar graph using grouped data \n",
        "---\n",
        "\n",
        "Create a horizontal bar chart of 2019 mean immigration for each income level ('`target_country_wb_income`')\n",
        "\n",
        "* create a data variable which contains the means, grouped by '`target_country_wb_income`' \n",
        "* extract your labels (x) using the .keys() function \n",
        "* use the plt.barh(x, y) to create a horizontal bar graph \n",
        "* add labels to the axes ('Year', 'Net Migration')  \n",
        "* show the plot  \n",
        "\n",
        "Try using plt.bar(x,y) - can you see why horizontally is more appropriate?"
      ]
    },
    {
      "cell_type": "code",
      "metadata": {
        "id": "WW0np_MNmwou",
        "colab": {
          "base_uri": "https://localhost:8080/",
          "height": 313
        },
        "outputId": "7fa97eb4-cd46-470e-f694-966f0956b8c3"
      },
      "source": [
        "country_income = df.groupby([\"target_country_wb_income\"]).mean()\n",
        "country_income\n",
        "data = country_income['net_per_10K_2019']\n",
        "data\n",
        "x = data.keys()   \n",
        "y = data.values\n",
        "plt.barh(x,y)\n",
        "plt.title(\"Migration 2019\")\n",
        "plt.ylabel(\"Income\")\n",
        "plt.xlabel(\"Mean net immigration per year\")\n",
        "#plt.show\n",
        "#print(x,y)\n",
        "#new_country_income\n",
        "#country_income\n",
        "#country\n",
        "#data = regions['net_per_10K_2019']\n",
        "#data\n",
        "#labels = data.keys()\n",
        "#labels\n",
        "#plt.bar(labels,data)\n",
        "#plt.barh(labels,data)\n",
        "#plt.show()"
      ],
      "execution_count": null,
      "outputs": [
        {
          "output_type": "execute_result",
          "data": {
            "text/plain": [
              "Text(0.5, 0, 'Mean net immigration per year')"
            ]
          },
          "metadata": {
            "tags": []
          },
          "execution_count": 5
        },
        {
          "output_type": "display_data",
          "data": {
            "image/png": "[encoded data removed]",
            "text/plain": [
              "<Figure size 432x288 with 1 Axes>"
            ]
          },
          "metadata": {
            "tags": [],
            "needs_background": "light"
          }
        }
      ]
    },
    {
      "cell_type": "markdown",
      "metadata": {
        "id": "49JShRy_vWib"
      },
      "source": [
        "# Pie Charts, Box Plots, Scatter Plots and Histograms\n",
        "---\n",
        "\n",
        "For these exercises you will use the Psychology dataset: \"https://github.com/lilaceri/Working-with-data-/blob/b157a2feceb7709cf82426932385706d65446270/Data%20Sets%20for%20code%20divisio/Positive_Psychology_2017.csv?raw=true\"\n",
        "\n",
        "To get the data ready:\n",
        "\n",
        "* read csv file above and save into a new variable called `psych_data`"
      ]
    },
    {
      "cell_type": "markdown",
      "metadata": {
        "id": "EMq3ymhwlcYR"
      },
      "source": [
        "### Exercise 7 - Creating a pie chart of stress data\n",
        "---\n",
        "Create a pie chart which shows how stressed students who speak different languages are.   \n",
        "\n",
        "To do this:\n",
        "\n",
        "* similar to Exercise 6 - create a variable which groups the means of data by firstlanguage  \n",
        "* store the means for 'Stress' in a variable called data\n",
        "* extract your labels using the keys() function\n",
        "* plot your pie chart using plt.pie(data, labels = labels)\n",
        "* write a comment noting anything interesting about the visualisation\n",
        "\n",
        "\n"
      ]
    },
    {
      "cell_type": "code",
      "metadata": {
        "colab": {
          "base_uri": "https://localhost:8080/",
          "height": 203
        },
        "id": "jAj44ZfjQ_Pi",
        "outputId": "7c8548a4-dc87-436e-e823-cef97ae223db"
      },
      "source": [
        "url = \"https://github.com/lilaceri/Working-with-data-/blob/b157a2feceb7709cf82426932385706d65446270/Data%20Sets%20for%20code%20divisio/Positive_Psychology_2017.csv?raw=true\"\n",
        "psych_data_df = pd.read_csv(url)\n",
        "psych_data_df.head()"
      ],
      "execution_count": null,
      "outputs": [
        {
          "output_type": "execute_result",
          "data": {
            "text/html": [
              "<div>\n",
              "<style scoped>\n",
              "    .dataframe tbody tr th:only-of-type {\n",
              "        vertical-align: middle;\n",
              "    }\n",
              "\n",
              "    .dataframe tbody tr th {\n",
              "        vertical-align: top;\n",
              "    }\n",
              "\n",
              "    .dataframe thead th {\n",
              "        text-align: right;\n",
              "    }\n",
              "</style>\n",
              "<table border=\"1\" class=\"dataframe\">\n",
              "  <thead>\n",
              "    <tr style=\"text-align: right;\">\n",
              "      <th></th>\n",
              "      <th>Age</th>\n",
              "      <th>English</th>\n",
              "      <th>firstlanguage</th>\n",
              "      <th>sex</th>\n",
              "      <th>origin</th>\n",
              "      <th>Ukresidence</th>\n",
              "      <th>MAAS</th>\n",
              "      <th>Resilliance</th>\n",
              "      <th>Wellbeing</th>\n",
              "      <th>Stress</th>\n",
              "      <th>selfesteem</th>\n",
              "      <th>LoC</th>\n",
              "      <th>sleep</th>\n",
              "      <th>Year</th>\n",
              "    </tr>\n",
              "  </thead>\n",
              "  <tbody>\n",
              "    <tr>\n",
              "      <th>0</th>\n",
              "      <td>24</td>\n",
              "      <td>Your Second Language</td>\n",
              "      <td>Arabic</td>\n",
              "      <td>Female</td>\n",
              "      <td>Outside Europe</td>\n",
              "      <td>0.0</td>\n",
              "      <td>4.60</td>\n",
              "      <td>44</td>\n",
              "      <td>26</td>\n",
              "      <td>19</td>\n",
              "      <td>22</td>\n",
              "      <td>10</td>\n",
              "      <td>32</td>\n",
              "      <td>2017</td>\n",
              "    </tr>\n",
              "    <tr>\n",
              "      <th>1</th>\n",
              "      <td>22</td>\n",
              "      <td>Your Second Language</td>\n",
              "      <td>Arabic</td>\n",
              "      <td>Female</td>\n",
              "      <td>Outside Europe</td>\n",
              "      <td>0.0</td>\n",
              "      <td>2.60</td>\n",
              "      <td>29</td>\n",
              "      <td>10</td>\n",
              "      <td>37</td>\n",
              "      <td>9</td>\n",
              "      <td>16</td>\n",
              "      <td>10</td>\n",
              "      <td>2017</td>\n",
              "    </tr>\n",
              "    <tr>\n",
              "      <th>2</th>\n",
              "      <td>26</td>\n",
              "      <td>Your Second Language</td>\n",
              "      <td>Burmese</td>\n",
              "      <td>Female</td>\n",
              "      <td>Outside Europe</td>\n",
              "      <td>0.0</td>\n",
              "      <td>4.13</td>\n",
              "      <td>26</td>\n",
              "      <td>20</td>\n",
              "      <td>20</td>\n",
              "      <td>18</td>\n",
              "      <td>20</td>\n",
              "      <td>24</td>\n",
              "      <td>2017</td>\n",
              "    </tr>\n",
              "    <tr>\n",
              "      <th>3</th>\n",
              "      <td>23</td>\n",
              "      <td>Your Second Language</td>\n",
              "      <td>Chinese</td>\n",
              "      <td>Male</td>\n",
              "      <td>Outside Europe</td>\n",
              "      <td>0.0</td>\n",
              "      <td>2.77</td>\n",
              "      <td>30</td>\n",
              "      <td>16</td>\n",
              "      <td>28</td>\n",
              "      <td>20</td>\n",
              "      <td>17</td>\n",
              "      <td>10</td>\n",
              "      <td>2017</td>\n",
              "    </tr>\n",
              "    <tr>\n",
              "      <th>4</th>\n",
              "      <td>25</td>\n",
              "      <td>Your Second Language</td>\n",
              "      <td>Chinese</td>\n",
              "      <td>Female</td>\n",
              "      <td>Outside Europe</td>\n",
              "      <td>0.0</td>\n",
              "      <td>3.80</td>\n",
              "      <td>33</td>\n",
              "      <td>27</td>\n",
              "      <td>15</td>\n",
              "      <td>18</td>\n",
              "      <td>12</td>\n",
              "      <td>17</td>\n",
              "      <td>2017</td>\n",
              "    </tr>\n",
              "  </tbody>\n",
              "</table>\n",
              "</div>"
            ],
            "text/plain": [
              "   Age               English firstlanguage  ... LoC sleep  Year\n",
              "0   24  Your Second Language        Arabic  ...  10    32  2017\n",
              "1   22  Your Second Language        Arabic  ...  16    10  2017\n",
              "2   26  Your Second Language       Burmese  ...  20    24  2017\n",
              "3   23  Your Second Language       Chinese  ...  17    10  2017\n",
              "4   25  Your Second Language       Chinese  ...  12    17  2017\n",
              "\n",
              "[5 rows x 14 columns]"
            ]
          },
          "metadata": {
            "tags": []
          },
          "execution_count": 2
        }
      ]
    },
    {
      "cell_type": "code",
      "metadata": {
        "id": "4mbOBPE-nU7o",
        "colab": {
          "base_uri": "https://localhost:8080/",
          "height": 550
        },
        "outputId": "1f78b59f-e9e0-4cb2-b88b-86af57de04dd"
      },
      "source": [
        "url = \"https://github.com/lilaceri/Working-with-data-/blob/b157a2feceb7709cf82426932385706d65446270/Data%20Sets%20for%20code%20divisio/Positive_Psychology_2017.csv?raw=true\"\n",
        "psych_data_df = pd.read_csv(url)\n",
        "first_language = psych_data_df.groupby([\"firstlanguage\"]).mean()      \n",
        "#first_language\n",
        "data = first_language[\"Stress\"]\n",
        "data\n",
        "labels = data.keys()\n",
        "labels\n",
        "plt.pie(data, labels = labels)"
      ],
      "execution_count": null,
      "outputs": [
        {
          "output_type": "execute_result",
          "data": {
            "text/plain": [
              "([<matplotlib.patches.Wedge at 0x7f1ac271fad0>,\n",
              "  <matplotlib.patches.Wedge at 0x7f1ac271ff50>,\n",
              "  <matplotlib.patches.Wedge at 0x7f1ac272b590>,\n",
              "  <matplotlib.patches.Wedge at 0x7f1ac272b650>,\n",
              "  <matplotlib.patches.Wedge at 0x7f1ac27344d0>,\n",
              "  <matplotlib.patches.Wedge at 0x7f1ac2734b10>,\n",
              "  <matplotlib.patches.Wedge at 0x7f1ac2734850>,\n",
              "  <matplotlib.patches.Wedge at 0x7f1ac273e410>,\n",
              "  <matplotlib.patches.Wedge at 0x7f1ac2734150>],\n",
              " [Text(0.9778343228056114, 0.503825403431875, 'Arabic'),\n",
              "  Text(0.30337855141339065, 1.0573369635751475, 'Burmese'),\n",
              "  Text(-0.4778066514066391, 0.9908081569464265, 'Chinese'),\n",
              "  Text(-0.8542503239005748, 0.6930053276243722, 'German'),\n",
              "  Text(-1.0958542973020244, 0.09541152490494195, 'Greek'),\n",
              "  Text(-0.8080366103226574, -0.746375801040113, 'Hindi'),\n",
              "  Text(-0.32328551040010345, -1.0514211709706747, 'Japanese'),\n",
              "  Text(0.42670111720894616, -1.0138669323795098, 'Romanian'),\n",
              "  Text(1.0307106904237644, -0.3842336172775195, 'Slovak')])"
            ]
          },
          "metadata": {
            "tags": []
          },
          "execution_count": 21
        },
        {
          "output_type": "display_data",
          "data": {
            "image/png": "[encoded data removed]",
            "text/plain": [
              "<Figure size 432x288 with 1 Axes>"
            ]
          },
          "metadata": {
            "tags": []
          }
        }
      ]
    },
    {
      "cell_type": "markdown",
      "metadata": {
        "id": "dLNPuH5zuq7Y"
      },
      "source": [
        "### Exercise 8 - Creating a box plot of Wellbeing\n",
        "---\n",
        "A box plot is used to visualise summary infomation about a data series such as the min, max and median. \n",
        "\n",
        "Create a box plot of the Wellbeing scores\n",
        "\n",
        "*  split off the wellbeing column  \n",
        "*  use plt.boxplot(data, labels=\"Wellbeing\") to create boxplot \n",
        "*  show the boxplot"
      ]
    },
    {
      "cell_type": "code",
      "metadata": {
        "colab": {
          "base_uri": "https://localhost:8080/",
          "height": 399
        },
        "id": "2jjRJ-kSiMJ5",
        "outputId": "294baff2-5511-4971-88e9-c75874057a8b"
      },
      "source": [
        "url = \"https://github.com/lilaceri/Working-with-data-/blob/b157a2feceb7709cf82426932385706d65446270/Data%20Sets%20for%20code%20divisio/Positive_Psychology_2017.csv?raw=true\"\n",
        "new_url = pd.read_csv(url)\n",
        "df = new_url[\"Wellbeing\"]\n",
        "df \n",
        "data = df\n",
        "plt.boxplot(data)"
      ],
      "execution_count": null,
      "outputs": [
        {
          "output_type": "execute_result",
          "data": {
            "text/plain": [
              "{'boxes': [<matplotlib.lines.Line2D at 0x7f1ac28e9590>],\n",
              " 'caps': [<matplotlib.lines.Line2D at 0x7f1ac3f67d10>,\n",
              "  <matplotlib.lines.Line2D at 0x7f1ac45dfb10>],\n",
              " 'fliers': [<matplotlib.lines.Line2D at 0x7f1ac2854fd0>],\n",
              " 'means': [],\n",
              " 'medians': [<matplotlib.lines.Line2D at 0x7f1ac4155e10>],\n",
              " 'whiskers': [<matplotlib.lines.Line2D at 0x7f1ac4146590>,\n",
              "  <matplotlib.lines.Line2D at 0x7f1ac3f6a410>]}"
            ]
          },
          "metadata": {
            "tags": []
          },
          "execution_count": 30
        },
        {
          "output_type": "display_data",
          "data": {
            "image/png": "[encoded data removed]",
            "text/plain": [
              "<Figure size 432x288 with 1 Axes>"
            ]
          },
          "metadata": {
            "tags": [],
            "needs_background": "light"
          }
        }
      ]
    },
    {
      "cell_type": "markdown",
      "metadata": {
        "id": "vn98cdsgHUjQ"
      },
      "source": [
        "Orange = median, top of box = 75%, lower edge box = 25% , accepted range in stats take range between upper and lower quatiles (inter quartile range) Upper quartile plus 1.5 times interquartile range. Lower quartile take away 1.5 times interquartile range"
      ]
    },
    {
      "cell_type": "code",
      "metadata": {
        "id": "2ICgz1rHHM6E"
      },
      "source": [
        ""
      ],
      "execution_count": null,
      "outputs": []
    },
    {
      "cell_type": "markdown",
      "metadata": {
        "id": "ecS9uzAs3AuV"
      },
      "source": [
        "### Exercise 9 - Histograms of  age \n",
        "---\n",
        "\n",
        "Create a histogram which shows the frequency distribution for '`Wellbeing`'.\n",
        "\n",
        "* split the `Wellbeing` column off to provide the data\n",
        "* plot the histogram using `plt.hist(data)` \n",
        "* add labels using `plt.xlabel()` and `plt.ylabel()`\n",
        "* change the colours of the bars - try plt.hist(x, color = 'red')\n",
        "* show the plot\n"
      ]
    },
    {
      "cell_type": "code",
      "metadata": {
        "id": "Iuo3TJOG3ASF",
        "colab": {
          "base_uri": "https://localhost:8080/",
          "height": 296
        },
        "outputId": "70b57392-5b06-4c6a-9799-9b2a2bd225f1"
      },
      "source": [
        "new_url = pd.read_csv(url)\n",
        "df = new_url[\"Wellbeing\"]\n",
        "df \n",
        "data = df\n",
        "plt.hist(data,color = \"red\")\n",
        "plt.xlabel(\"Degree of wellbeing\")\n",
        "plt.ylabel(\"percentage of people sampled\")"
      ],
      "execution_count": null,
      "outputs": [
        {
          "output_type": "execute_result",
          "data": {
            "text/plain": [
              "Text(0, 0.5, 'percentage of people sampled')"
            ]
          },
          "metadata": {
            "tags": []
          },
          "execution_count": 37
        },
        {
          "output_type": "display_data",
          "data": {
            "image/png": "[encoded data removed]",
            "text/plain": [
              "<Figure size 432x288 with 1 Axes>"
            ]
          },
          "metadata": {
            "tags": [],
            "needs_background": "light"
          }
        }
      ]
    },
    {
      "cell_type": "markdown",
      "metadata": {
        "id": "7ijbVqHZ1YhP"
      },
      "source": [
        "### Exercise 10 - Create a scatterplot of Wellbeing and Stress with line of best fit\n",
        "---\n",
        "\n",
        "Earlier in exercise 3, we found that Stress significantly predicted Wellbeing.\n",
        "\n",
        "Create a scatterplot of Wellbeing and Stress data.\n",
        "\n",
        "* create **x** from the `Stress` column\n",
        "* create *y* from the `Wellbeing` column\n",
        "* use `plt.scatter(x,y)` to create a scatterplot\n",
        "* add x axis and y axis labels using `plt.xlabel('Stress')` and `plt.ylabel('Wellbeing')`\n",
        "*  \n",
        "\n",
        "Adding a line of best fit:   \n",
        "\n",
        "* create a regression variable and assign the result of using linregress \n",
        "* store the slope and intercept (`slope = regression.slope`, `intercept = regression.intercept`)\n",
        "* plt.plot(x, slope*x + intercept) \n",
        "\n",
        "Show the plots.\n",
        "\n",
        "Write a short data story ( a description of the data.  What conclusion could be reached from the chart?  How confident could you be in this conclusion and why?\n",
        "\n",
        "\n"
      ]
    },
    {
      "cell_type": "code",
      "metadata": {
        "id": "9puphgbB1tUY",
        "colab": {
          "base_uri": "https://localhost:8080/",
          "height": 296
        },
        "outputId": "727beb39-3156-4e1f-ac9e-f464d664a211"
      },
      "source": [
        "x = new_url[\"Stress\"]\n",
        "y = new_url[\"Wellbeing\"] \n",
        "regression = linregress(x,y)\n",
        "regression\n",
        "plt.scatter(x,y)\n",
        "slope = regression.slope\n",
        "intercept = regression.intercept\n",
        "plt.plot(x, slope*x + intercept)\n",
        "plt.xlabel('Stress')\n",
        "plt.ylabel('Wellbeing')"
      ],
      "execution_count": null,
      "outputs": [
        {
          "output_type": "execute_result",
          "data": {
            "text/plain": [
              "Text(0, 0.5, 'Wellbeing')"
            ]
          },
          "metadata": {
            "tags": []
          },
          "execution_count": 36
        },
        {
          "output_type": "display_data",
          "data": {
            "image/png": "[encoded data removed]",
            "text/plain": [
              "<Figure size 432x288 with 1 Axes>"
            ]
          },
          "metadata": {
            "tags": [],
            "needs_background": "light"
          }
        }
      ]
    },
    {
      "cell_type": "markdown",
      "metadata": {
        "id": "HF-Vx5EyxARG"
      },
      "source": [
        "## Data story\n",
        "---\n",
        "\n",
        "This data shows that most people who are moderately stressed have reasonable wellbeing but if they have high stress levels then they have low wellbeing and if they have low stress levels they have higher levels of wellbeing. There is a correlation between the two elements, Stress and Wellbeing."
      ]
    },
    {
      "cell_type": "markdown",
      "metadata": {
        "id": "FWli4XMmsAPo"
      },
      "source": [
        "# Further reference on w3schools\n",
        "\n",
        "[Matplotlib on w3schools](https://www.w3schools.com/python/matplotlib_intro.**asp**)"
      ]
    }
  ]
}