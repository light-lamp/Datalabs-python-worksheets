{
  "nbformat": 4,
  "nbformat_minor": 0,
  "metadata": {
    "colab": {
      "name": " While Loops best effort 14 4 21 worksheet JK",
      "provenance": [],
      "collapsed_sections": [],
      "include_colab_link": true
    },
    "kernelspec": {
      "name": "python3",
      "display_name": "Python 3"
    }
  },
  "cells": [
    {
      "cell_type": "markdown",
      "metadata": {
        "id": "view-in-github",
        "colab_type": "text"
      },
      "source": [
        "<a href=\"https://colab.research.google.com/github/light-lamp/Datalabs-python-worksheets/blob/main/While_Loops_best_effort_14_4_21_worksheet_JK.ipynb\" target=\"_parent\"><img src=\"https://colab.research.google.com/assets/colab-badge.svg\" alt=\"Open In Colab\"/></a>"
      ]
    },
    {
      "cell_type": "markdown",
      "metadata": {
        "id": "OWGIE_ptimyf"
      },
      "source": [
        "# While loops\n",
        "\n",
        "---\n"
      ]
    },
    {
      "cell_type": "markdown",
      "metadata": {
        "id": "Kjh4DVogizl5"
      },
      "source": [
        "There are many situations when an external event (such as an input from the user or finding an invalid data value) will be the thing that will cause the loop to stop.\n",
        "\n",
        "A while loop allows us to say \"repeat these instructions while something has not yet happened, or repeat these instruction while a particular state exists\"\n",
        "\n",
        "For example, we want to ask a user to enter some positive numbers to be added to a total. They will indicate that there are no more numbers by entering -1.\n",
        "\n"
      ]
    },
    {
      "cell_type": "code",
      "metadata": {
        "id": "HieVx4BrtJlU"
      },
      "source": [
        "# initialise a total to 0\n",
        "# read the first number\n",
        "# add the number to the total and keep reading next number and adding to total until -1 entered\n",
        "\n",
        "def running_total():\n",
        "    total = 0\n",
        "    num = int(input(\"Enter a number, or type -1 to stop\"))\n",
        "    while num != -1:\n",
        "        total = total + num\n",
        "        num = int(input(\"Enter a number, or type -1 to stop\"))\n",
        "    print(total)\n",
        "\n",
        "running_total()"
      ],
      "execution_count": null,
      "outputs": []
    },
    {
      "cell_type": "markdown",
      "metadata": {
        "id": "X8pROiEYtKbA"
      },
      "source": [
        "**Another example**\n",
        "\n",
        "We want to take a number from the user and keep dividing it by 2 until the answer is 1 or less, then to print the number of times it was divided. Try it out. If you enter 8 then the answer should be 3, if you enter 6 the answer will also be 3."
      ]
    },
    {
      "cell_type": "code",
      "metadata": {
        "id": "eL9nJORbtTUb"
      },
      "source": [
        "def div_by_two():\n",
        "  num = int(input(\"Enter a number to be processed\"))\n",
        "  number_times_divided = 0\n",
        "  while num > 1:\n",
        "    number_times_divided = number_times_divided + 1\n",
        "    num = num/2\n",
        "  print(\"Your number was divided\", number_times_divided, \"times\") \n",
        "   \n",
        "div_by_two()"
      ],
      "execution_count": null,
      "outputs": []
    },
    {
      "cell_type": "markdown",
      "metadata": {
        "id": "jKqqk9LstW83"
      },
      "source": [
        "*Here are some more examples of use of while loops.*\n",
        "\n",
        "### Ensuring valid input  \n",
        "When reading from the keyboard it is important to ensure that the user only enters valid data. You can do this in a number of ways but a while loop can be used to make the user keep entering data until they enter something that is valid."
      ]
    },
    {
      "cell_type": "code",
      "metadata": {
        "id": "7_CoIBfluIUG"
      },
      "source": [
        "# read a number from the user\n",
        "# check that the number is a positive integer.  If not, display error messages\n",
        "# keep reading until a positive integer is read\n",
        "\n",
        "def positive_num():\n",
        "  number = -1\n",
        "  while number < 0:\n",
        "    print(\"You must type a number above 0\")\n",
        "    number = int(input(\"Enter a positive number\"))\n",
        "  print(\"Thank you for typing the number\", number)\n",
        "\n",
        "positive_num()"
      ],
      "execution_count": null,
      "outputs": []
    },
    {
      "cell_type": "markdown",
      "metadata": {
        "id": "YiO-WgJ8zzjp"
      },
      "source": [
        "### Take home points\n",
        "\n",
        "* An algorithm is the method for solving a particular problem (e.g. getting the right sort of number, selecting a message depending on input, calculating a new figure, etc)\n",
        "* A while loop will keep repeating while the given condition is TRUE\n",
        "* As soon as the condition becomes false the loop will stop executing\n",
        "* We use while loops when we don't necessarily know how many times a loop will need to repeat, but we do know under what conditions it does need to repeat."
      ]
    },
    {
      "cell_type": "markdown",
      "metadata": {
        "id": "4CS8CNrmQUbO"
      },
      "source": [
        "---\n",
        "### Exercise 1 - get a valid username\n",
        "\n",
        "Write a function called **get_username()** which will:  \n",
        "\n",
        "*  assign the value False to a boolean variable called **valid**  \n",
        "*  start a while loop that will continue to loop while `valid` is False  \n",
        "*  in the loop:  ask the user to enter a **username**,  if the `username` is \"user\" assign the value True to `valid`, otherwise print the message \"Incorrect user name\"   \n",
        "*  after the loop, display the message \"Welcome `username`, you will now be asked to enter your password  \n",
        "\n",
        "Test input:  \n",
        "username   \n",
        "user  \n",
        "\n",
        "Expected output:  \n",
        "Incorrect username  \n",
        "Welcome user you will now be asked to enter your password  "
      ]
    },
    {
      "cell_type": "code",
      "metadata": {
        "id": "X9CF-W5FAPQG"
      },
      "source": [
        "me\n"
      ],
      "execution_count": null,
      "outputs": []
    },
    {
      "cell_type": "code",
      "metadata": {
        "id": "nwq55T5eRv7_",
        "colab": {
          "base_uri": "https://localhost:8080/"
        },
        "outputId": "4584dd99-b223-441b-847d-434cb34359a9"
      },
      "source": [
        "def get_user_name():\n",
        "  valid =False\n",
        "  while valid==False: # means while valid = wrong answer\n",
        "    username = input(\"Please enter your username here: \")\n",
        "    if username != \"user\":\n",
        "      valid = False\n",
        "                                       #wrong answer\n",
        "      print(\"Incorrect user name \")\n",
        "    else: \n",
        "      valid = True\n",
        "  print(\"Welcome \", username, \",\", \"you will now be asked to enter your password\" )\n",
        "get_user_name()\n"
      ],
      "execution_count": null,
      "outputs": [
        {
          "output_type": "stream",
          "text": [
            "Please enter your username here: username\n",
            "Incorrect user name \n",
            "Please enter your username here: user\n",
            "Welcome  user , you will now be asked to enter your password\n"
          ],
          "name": "stdout"
        }
      ]
    },
    {
      "cell_type": "markdown",
      "metadata": {
        "id": "FXN6-MtQRwb9"
      },
      "source": [
        "---\n",
        "### Exercise 2 - get a valid passcode  \n",
        "\n",
        "Write a function called **get_passcode()** which will:  \n",
        "\n",
        "*  assign the value False to a boolean variable called **valid**  \n",
        "*  start a while loop that will continue to loop while `valid` is False  \n",
        "*  in the loop:  ask the user to enter a **passcode**, if the `passcode` is \"9876\" assign the value True to `valid`, otherwise print the message \"Incorrect passcode\"  \n",
        "*  after the loop, display the message \"Passcode accepted\"    \n",
        "\n",
        "Test input:  \n",
        "1234   \n",
        "9876  \n",
        "\n",
        "Expected output:  \n",
        "Incorrect passcode  \n",
        "Passcode accepted  "
      ]
    },
    {
      "cell_type": "code",
      "metadata": {
        "id": "a0Z_ACOiSxsP",
        "colab": {
          "base_uri": "https://localhost:8080/"
        },
        "outputId": "410b0d59-a8d5-45be-aef6-2cde3b7702a4"
      },
      "source": [
        "def get_passcode():\n",
        "  valid = False       #always set variable first\n",
        "  while valid == False: # is equal to... use 2 ==\n",
        "    passcode = input(\"Enter passcode: \")\n",
        "    if passcode != \"9876\": # is not equal to only use one =\n",
        "      valid = False\n",
        "      print(\"Incorrect passcode \")\n",
        "    else:\n",
        "      valid = True   \n",
        "  print(\"Passcode accepted \") # indent to close while loop so match up with while\n",
        "get_passcode()"
      ],
      "execution_count": null,
      "outputs": [
        {
          "output_type": "stream",
          "text": [
            "Enter passcode: 1234\n",
            "Incorrect passcode \n",
            "Enter passcode: 9876\n",
            "Passcode accepted \n"
          ],
          "name": "stdout"
        }
      ]
    },
    {
      "cell_type": "markdown",
      "metadata": {
        "id": "DMeDXd7TS0ar"
      },
      "source": [
        "---\n",
        "### Exercise 3 - single digit input  \n",
        "\n",
        "Write a function called **get_digit()** which will:  \n",
        "\n",
        "*  assign the value False to a boolean variable called **valid_digit**  \n",
        "*  use a while loop to repeatedly ask the user to enter a single digit until the value they enter is less than 10     \n",
        "*  in the loop:  ask the user to enter a **single_digit**, if the `single_digit` is less than 10 assign the value True to `valid`, otherwise print the message \"Not a digit\"  \n",
        "*  after the loop, display the message \"Single digit entered\"    \n",
        "\n",
        "Test input:  \n",
        "10   \n",
        "9  \n",
        "\n",
        "Expected output:  \n",
        "Not a digit  \n",
        "Single digit entered  "
      ]
    },
    {
      "cell_type": "code",
      "metadata": {
        "id": "4oGXPcmqTtVN",
        "colab": {
          "base_uri": "https://localhost:8080/"
        },
        "outputId": "48091472-5003-408f-c413-829b781545c3"
      },
      "source": [
        "def get_digit():\n",
        "  valid = False\n",
        "  while valid == False:\n",
        "    valid_digit = int(input(\"Please enter a digigt < 10 \"))\n",
        "    if valid_digit >= 10: # No spaces needed for operators  eg =>\n",
        "      valid = False\n",
        "      (print(\"Not a digit \"))\n",
        "    else:\n",
        "      valid = True\n",
        "  print(\"Single digit entered \")\n",
        "get_digit()"
      ],
      "execution_count": null,
      "outputs": [
        {
          "output_type": "stream",
          "text": [
            "Please enter a digigt < 1010\n",
            "Not a digit \n",
            "Please enter a digigt < 109\n",
            "Single digit entered \n"
          ],
          "name": "stdout"
        }
      ]
    },
    {
      "cell_type": "markdown",
      "metadata": {
        "id": "o80s4nzfi37X"
      },
      "source": [
        "---\n",
        "### Exercise 4 - positive number input \n",
        "\n",
        "Write a function called **positive_number()** which will:\n",
        "*  ask the user to enter a **number**, the message should indicate that it must be a positive number  \n",
        "*  if `number` is not positive **(ie. less than 1)** show an error message and ask user to re-enter the `number` \n",
        "*  when the `number` is positive, print the `number`\n",
        "\n",
        "Test input:  \n",
        "-1\n",
        "0\n",
        "1\n",
        "\n",
        "Expected output:  \n",
        "It must be a positive number, try again  \n",
        "It must be a positive number, try again  \n",
        "1  "
      ]
    },
    {
      "cell_type": "code",
      "metadata": {
        "id": "BmZjI8PzwdT-",
        "colab": {
          "base_uri": "https://localhost:8080/"
        },
        "outputId": "f09e4b58-4bb1-4e80-9e66-8037503f081c"
      },
      "source": [
        "def positive_number():\n",
        "  valid = False\n",
        "  while valid == False:                                   #indentation!!!!\n",
        "    number = int(input(\"Enter a positive number >1 \"))\n",
        "    if number  <= 1:\n",
        "      valid = False\n",
        "      print(\"It must be a positive number, try again \")\n",
        "      number = int(input(\"Enter a positive number >1 \"))\n",
        "    else:\n",
        "      valid = True\n",
        "  print(number)\n",
        "positive_number()\n",
        "\n"
      ],
      "execution_count": null,
      "outputs": [
        {
          "output_type": "stream",
          "text": [
            "Enter a positive number >1-101\n",
            "It must be a positive number, try again \n",
            "Enter a positive number >10\n",
            "Enter a positive number >14\n",
            "4\n"
          ],
          "name": "stdout"
        }
      ]
    },
    {
      "cell_type": "markdown",
      "metadata": {
        "id": "xPJfd9lUyULa"
      },
      "source": [
        "---\n",
        "### Exercise 5 - getting a number within limits \n",
        "\n",
        "Write a function called **test_limits()** which will:\n",
        "\n",
        "*  ask the user to enter a number between **1 and 31**\n",
        "*  if the number entered is less than 1 or more than 31, display the error message \"Number out of limits\"  \n",
        "*  continue asking the user until a valid input is given \n",
        "*  when a valid number is given, display the message \"Your number was `number`\" and end the program \n",
        "\n",
        "Test input:  \n",
        "40  \n",
        "50  \n",
        "30  \n",
        "\n",
        "Expected output:  \n",
        "Number out of limits  \n",
        "Number out of limits  \n",
        "Your number was 30  \n"
      ]
    },
    {
      "cell_type": "code",
      "metadata": {
        "id": "MVxhTY6zzq8k",
        "colab": {
          "base_uri": "https://localhost:8080/",
          "height": 0
        },
        "outputId": "35e925ce-0d39-470d-e13b-091d62cbfc3e"
      },
      "source": [
        "def test_limits():\n",
        "  valid = False                             #if number is less than 1 or over 30)\n",
        "  while valid == False:\n",
        "    num = int(input(\"Please input a number between 1 and 31 \"))\n",
        "    if num <=1 or num >=31:       #restate variable name!\n",
        "        valid = False\n",
        "        print(\"Number out of limits \")\n",
        "        num = int(input(\"Please input a number between 1 and 31 \"))\n",
        "    else:\n",
        "        valid = True\n",
        "  print(\"Your number was \", num)\n",
        "test_limits()\n",
        "\n",
        "\n"
      ],
      "execution_count": 56,
      "outputs": [
        {
          "output_type": "stream",
          "text": [
            "Please input a number between 1 and 31 40\n",
            "Number out of limits \n",
            "Please input a number between 1 and 31 50\n",
            "Please input a number between 1 and 31 30\n",
            "Your number was  30\n"
          ],
          "name": "stdout"
        }
      ]
    },
    {
      "cell_type": "markdown",
      "metadata": {
        "id": "WcHiG9AlUPdr"
      },
      "source": [
        "---\n",
        "### Exercise 6 - getting a number outside range\n",
        "\n",
        "Write a function called **test_outlier()** which will:\n",
        "\n",
        "*  ask the user to enter a **number** that is NOT between 40 and 50  \n",
        "*  if the `number` entered is between 40 and 50 (including both 40 and 50, display the error message \"This is not an outlier\"\n",
        "*  continue asking the user until a valid `number` is given\n",
        "*  when a valid `number` is given, display the message \"You have entered an outlier\" and end the program  \n",
        "\n",
        "Test input:  \n",
        "34  \n",
        "\n",
        "Expected output:  \n",
        "You have entered an outlier  \n",
        "\n",
        "Test input:  \n",
        "44  \n",
        "50  \n",
        "40  \n",
        "34  \n",
        "\n",
        "Expected output:  \n",
        "This is not an outlier  \n",
        "This is not an outlier  \n",
        "This is not an outlier  \n",
        "You have entered an outlier  "
      ]
    },
    {
      "cell_type": "code",
      "metadata": {
        "id": "PqvtQXYnUQ8E",
        "colab": {
          "base_uri": "https://localhost:8080/",
          "height": 0
        },
        "outputId": "97bc2638-4762-46e5-fac8-e266ff9c3db3"
      },
      "source": [
        "def test_outlier():\n",
        "  valid = False               # if number is between 40 and 50\n",
        "  while valid == False:\n",
        "    num = int(input(\"Enter a number, but NOT between 40 and 50: \"))    \n",
        "    if num >= 40 and num <= 50:      #both must be true so and not or\n",
        "      valid = False                              \n",
        "      print(\"This is not an outlier \")\n",
        "                                         #num= int(input(\"Enter a number, but NOT between 40 and 50: \")) # instruct only to read in number once\n",
        "    else:\n",
        "        valid = True\n",
        "  print(\"You have entered an outlier\")\n",
        "test_outlier()"
      ],
      "execution_count": 100,
      "outputs": [
        {
          "output_type": "stream",
          "text": [
            "Enter a number, but NOT between 40 and 50: 44\n",
            "This is not an outlier \n",
            "Enter a number, but NOT between 40 and 50: 50\n",
            "This is not an outlier \n",
            "Enter a number, but NOT between 40 and 50: 40\n",
            "This is not an outlier \n",
            "Enter a number, but NOT between 40 and 50: 34\n",
            "You have entered an outlier\n"
          ],
          "name": "stdout"
        }
      ]
    },
    {
      "cell_type": "markdown",
      "metadata": {
        "id": "53kjOj7nzri1"
      },
      "source": [
        "---\n",
        "### Exercise 7 - multiplying a number to be greater than 20,000\n",
        "\n",
        "Write a function called **increase_to_twenty_thousand()** that will:\n",
        "\n",
        "*  ask the user to input a **number**\n",
        "*  multiply given `number` by itself repeatedly, printing its value each time it changes, until the  number has become greater (>) than 20,000\n",
        "\n",
        "Test input:  \n",
        "5\n",
        "\n",
        "Expected output:  \n",
        "5   \n",
        "25  \n",
        "125  \n",
        "625  \n",
        "3125  \n",
        "15625  \n",
        "78125  \n",
        " "
      ]
    },
    {
      "cell_type": "code",
      "metadata": {
        "id": "9vzat0W21tNA",
        "colab": {
          "base_uri": "https://localhost:8080/",
          "height": 0
        },
        "outputId": "80d0ed70-842e-4b99-ddae-00b795041f74"
      },
      "source": [
        "def increase_to_twenty_thousand():\n",
        "  total = 1                                         #remember anything * 0 = 0!\n",
        "  num = int(input(\"Please enter a number: \"))\n",
        "  while total <=20000:                                  #never sep't numbers with commas unless string\n",
        "    total = total * num\n",
        "    print(total)\n",
        "increase_to_twenty_thousand()"
      ],
      "execution_count": 61,
      "outputs": [
        {
          "output_type": "stream",
          "text": [
            "Please enter a number: 5\n",
            "5\n",
            "25\n",
            "125\n",
            "625\n",
            "3125\n",
            "15625\n",
            "78125\n"
          ],
          "name": "stdout"
        }
      ]
    },
    {
      "cell_type": "markdown",
      "metadata": {
        "id": "wepL2Ufj1uvT"
      },
      "source": [
        "---\n",
        "### Exercise 8 - even and odds \n",
        "\n",
        "Write a function called **get_even_number()** that:\n",
        "\n",
        "*  asks the user to input an even number (divisible by 2)\n",
        "*  if an odd number is given, display message \"That number is odd\"\n",
        "*  once valid input given (even number), display message \"Thanks, that number is even\"\n",
        "\n",
        "Test input:  \n",
        "3  \n",
        "1  \n",
        "2  \n",
        "\n",
        "Expected output:  \n",
        "That number is odd  \n",
        "That number is odd  \n",
        "Thanks, that number is even  \n",
        "\n"
      ]
    },
    {
      "cell_type": "code",
      "metadata": {
        "id": "KME9Qfcs45yJ",
        "colab": {
          "base_uri": "https://localhost:8080/",
          "height": 0
        },
        "outputId": "a0f59072-1eed-4e9c-d5fb-a6fc5ca8fd3e"
      },
      "source": [
        "def get_even_number():\n",
        "  #valid = False\n",
        "  num = int(input(\"Please enter a number \"))\n",
        "  while num % 2 != 0:\n",
        "    #valid = False\n",
        "    print(\"That number is odd \")\n",
        "    num = int(input(\"Please enter a number \")) # must remember to make sure that the while condition can change\n",
        "   # valid = True\n",
        "  print(\"Thanks, that number is even \")\n",
        "get_even_number()\n"
      ],
      "execution_count": 107,
      "outputs": [
        {
          "output_type": "stream",
          "text": [
            "Please enter a number 3\n",
            "That number is odd \n",
            "Please enter a number 1\n",
            "That number is odd \n",
            "Please enter a number 2\n",
            "Thanks, that number is even \n"
          ],
          "name": "stdout"
        }
      ]
    },
    {
      "cell_type": "markdown",
      "metadata": {
        "id": "-p3LVygZwd6R"
      },
      "source": [
        "### Exercise 9 - menu choice \n",
        "\n",
        "Write a function called **show_special_numbers()** which will:\n",
        "\n",
        "*  display the following menu \n",
        "\n",
        "*What value would you like to see?*\n",
        "\n",
        "1. *Pi*\n",
        "2. *Plank’s constant*\n",
        "3. *E*\n",
        "4. *Square root of 2*\n",
        "5. *Quit the program*\n",
        "\n",
        "*  ask the user to input which value they would like to see by typing a number between 1 - 5 \n",
        "*  read and process the choice while the user selects anything other than 5 (Quit the program)\n",
        "\n",
        "To process the choice:  \n",
        "* if the number is 1 - print 3.14159265359\n",
        "* if the number is 2 - print 6.62607004 × 10-34 (in Python this would be written 6.62607004E-34\n",
        "* if the number is 3 - print 2.71828\n",
        "* if the number is 4 - print 1.414\n",
        "* if the number is 5 - print the message (\"Thank you for using this program\")\n",
        "* if the number is anything else - print \"Invalid choice\"\n",
        "\n",
        "The program will print the message associated with the menu choice and will then display the menu again and ask the user to select a choice.  \n",
        "\n",
        "When the user enters 5, the program should stop repeating.\n",
        "\n",
        "Test input:    \n",
        "1  \n",
        "4  \n",
        "6  \n",
        "5  \n",
        "\n",
        "Expected output:    \n",
        "3.14159265359  \n",
        "1.414  \n",
        "Invalid choice  \n",
        "Thank you for using this program  "
      ]
    },
    {
      "cell_type": "code",
      "metadata": {
        "id": "EZdR70D-yP_Y",
        "colab": {
          "base_uri": "https://localhost:8080/",
          "height": 0
        },
        "outputId": "047887b6-efe9-423e-9795-ec738340d64d"
      },
      "source": [
        "def show_special_numbers():\n",
        "    user_choice = int(input(\"1. Pi\\n2. Plank's constant\\n3. E\\n4. Square root of 2\\n5. Quit the programme\\n\\n Type your menu choice from numbers 1 - 5 in the menu: \"))\n",
        "    while user_choice != 5:      \n",
        "      if user_choice == 1:                                            #\\n breaks up the text onto new lines and prints as text   while loops are conditional. The only way to end the loop is that the condition has not been met\n",
        "        print(\"3.14159265359\")\n",
        "        #break\n",
        "      elif user_choice == 2:\n",
        "        print(\"6.62607004 × 10-34\")\n",
        "       # break\n",
        "      elif user_choice == 3:\n",
        "        print(\"2.71828\")\n",
        "        #break\n",
        "      elif user_choice == 4:\n",
        "        print(\"1.414\")\n",
        "        #break\n",
        "      else:\n",
        "        print(\"Invalid choice\")\n",
        "      user_choice = int(input(\"Type your menu choice from numbers 1 - 5 in the menu: \"))\n",
        "    print(\"Thank you for using this programme \")\n",
        "show_special_numbers()"
      ],
      "execution_count": 119,
      "outputs": [
        {
          "output_type": "stream",
          "text": [
            "1. Pi\n",
            "2. Plank's constant\n",
            "3. E\n",
            "4. Square root of 2\n",
            "5. Quit the programme\n",
            "\n",
            " Type your menu choice from numbers 1 - 5 in the menu: 1\n",
            "3.14159265359\n",
            "Type your menu choice from numbers 1 - 5 in the menu: 4\n",
            "1.414\n",
            "Type your menu choice from numbers 1 - 5 in the menu: 6\n",
            "Invalid choice\n",
            "Type your menu choice from numbers 1 - 5 in the menu: 5\n",
            "Thank you for using this programme \n"
          ],
          "name": "stdout"
        }
      ]
    },
    {
      "cell_type": "markdown",
      "metadata": {
        "id": "Ig_WrlmPWG4v"
      },
      "source": [
        "---\n",
        "### Exercise 10 - Guess the number  \n",
        "\n",
        "Write a function called **guess_number(number)** which will:  \n",
        "\n",
        "Ask the user to guess the number within 6 attempts.  \n",
        "\n",
        "The function will be given a random number (called `number`) and should use a while loop that will continue while the user has not guessed correctly and has had less than 6 attempts (don't forget to set the number of attempts to 0 before the loop and increment it every time a guess is made).  \n",
        "\n",
        "In the loop:  \n",
        "\n",
        "*  ask the user to enter a **guess**  \n",
        "*  if the `guess` is greater than the `number` print \"Too high\", if less than the number print \"Too low\" or if correct print \"You guessed it\"  \n",
        "*  count the `attempt`  \n",
        "\n",
        "After the loop if the maximum attempts has been reached, print \"Too many attempts\"\n",
        "\n",
        "\n"
      ]
    },
    {
      "cell_type": "code",
      "metadata": {
        "id": "7qagArrHWHGV",
        "colab": {
          "base_uri": "https://localhost:8080/",
          "height": 0
        },
        "outputId": "8fddff44-cc56-4930-ad3a-44f0294073b7"
      },
      "source": [
        "from random import randint\n",
        "\n",
        "def guess_number(number):\n",
        "  # add your code below here, remembering to indent\n",
        "  total_attempts = 0\n",
        "  while total_attempts < 6 :\n",
        "    guess = int(input(\"number less than 51 \" )) \n",
        "    if guess > number:\n",
        "      print(\"Too high \")\n",
        "      total_attempts = total_attempts +1 \n",
        "    elif guess< number:\n",
        "      print(\"Too low \")\n",
        "      total_attempts = total_attempts +1\n",
        "    else:\n",
        "      print(\"You guessed it in \", total_attempts)\n",
        "      break\n",
        "guess_number(randint(1,50))"
      ],
      "execution_count": 128,
      "outputs": [
        {
          "output_type": "stream",
          "text": [
            "number less than 51 43\n",
            "Too high \n",
            "number less than 51 42\n",
            "Too high \n",
            "number less than 51 43\n",
            "Too high \n",
            "number less than 51 43\n",
            "Too high \n",
            "number less than 51 43\n",
            "Too high \n",
            "number less than 51 43\n",
            "Too high \n"
          ],
          "name": "stdout"
        }
      ]
    }
  ]
}